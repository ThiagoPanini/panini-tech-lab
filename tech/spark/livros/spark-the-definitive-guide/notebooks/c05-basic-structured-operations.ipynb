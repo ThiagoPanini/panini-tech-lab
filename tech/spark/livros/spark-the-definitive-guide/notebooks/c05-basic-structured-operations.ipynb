{
 "cells": [
  {
   "cell_type": "markdown",
   "id": "1811ae5c",
   "metadata": {},
   "source": [
    "**_Objetivo:_** Neste notebook, serão consolidados códigos para explorações práticas envolvendo o contéudo presente no capítulo 5 do livro Spark - The Definitive Guide: Basic Structured Operations. No cenário proposto, exemplificações sobre a utilização de DataFrames e transformações serão fornecidas de modo a garantir uma maior experiência prática na leitura e no tratamento de dados utilizando Spark."
   ]
  },
  {
   "cell_type": "code",
   "execution_count": 1,
   "id": "42aaa8cf",
   "metadata": {},
   "outputs": [
    {
     "data": {
      "text/html": [
       "\n",
       "            <div>\n",
       "                <p><b>SparkSession - in-memory</b></p>\n",
       "                \n",
       "        <div>\n",
       "            <p><b>SparkContext</b></p>\n",
       "\n",
       "            <p><a href=\"http://DESKTOP-CJKTBO0:4040\">Spark UI</a></p>\n",
       "\n",
       "            <dl>\n",
       "              <dt>Version</dt>\n",
       "                <dd><code>v3.2.1</code></dd>\n",
       "              <dt>Master</dt>\n",
       "                <dd><code>local[*]</code></dd>\n",
       "              <dt>AppName</dt>\n",
       "                <dd><code>pyspark-shell</code></dd>\n",
       "            </dl>\n",
       "        </div>\n",
       "        \n",
       "            </div>\n",
       "        "
      ],
      "text/plain": [
       "<pyspark.sql.session.SparkSession at 0x14a51a39e80>"
      ]
     },
     "execution_count": 1,
     "metadata": {},
     "output_type": "execute_result"
    }
   ],
   "source": [
    "# Importando bibliotecas\n",
    "import os\n",
    "from pyspark.sql import SparkSession\n",
    "\n",
    "# Definindo variáveis de diretório\n",
    "GITHUB_PATH = r'D:\\Users\\thiagoPanini\\OneDrive\\Desenvolvimento\\estudos\\big data\\spark\\livros\\spark-the-definitive-guide\\book-github-resources\\Spark-The-Definitive-Guide-master\\data'\n",
    "FILE_PATH = r'flight-data\\json\\2015-summary.json'\n",
    "DATA_PATH = os.path.join(GITHUB_PATH, FILE_PATH)\n",
    "\n",
    "# Inicializando sessão spark\n",
    "spark = SparkSession.builder.getOrCreate()\n",
    "spark"
   ]
  },
  {
   "cell_type": "code",
   "execution_count": 2,
   "id": "63f10d9f",
   "metadata": {},
   "outputs": [
    {
     "name": "stdout",
     "output_type": "stream",
     "text": [
      "root\n",
      " |-- DEST_COUNTRY_NAME: string (nullable = true)\n",
      " |-- ORIGIN_COUNTRY_NAME: string (nullable = true)\n",
      " |-- count: long (nullable = true)\n",
      "\n"
     ]
    }
   ],
   "source": [
    "# Lendo arquivo\n",
    "df = spark.read.format('json').load(DATA_PATH)\n",
    "\n",
    "# Printando schema\n",
    "df.printSchema()"
   ]
  },
  {
   "cell_type": "markdown",
   "id": "d9dc28fb",
   "metadata": {},
   "source": [
    "# Schema"
   ]
  },
  {
   "cell_type": "code",
   "execution_count": 3,
   "id": "3291e049",
   "metadata": {},
   "outputs": [
    {
     "data": {
      "text/plain": [
       "StructType(List(StructField(DEST_COUNTRY_NAME,StringType,true),StructField(ORIGIN_COUNTRY_NAME,StringType,true),StructField(count,LongType,true)))"
      ]
     },
     "execution_count": 3,
     "metadata": {},
     "output_type": "execute_result"
    }
   ],
   "source": [
    "# Atributo schema do DataFrame\n",
    "df.schema"
   ]
  },
  {
   "cell_type": "code",
   "execution_count": 4,
   "id": "6cbea18f",
   "metadata": {},
   "outputs": [
    {
     "data": {
      "text/plain": [
       "[StructField(DEST_COUNTRY_NAME,StringType,true),\n",
       " StructField(ORIGIN_COUNTRY_NAME,StringType,true),\n",
       " StructField(count,LongType,true)]"
      ]
     },
     "execution_count": 4,
     "metadata": {},
     "output_type": "execute_result"
    }
   ],
   "source": [
    "# Verificando campos\n",
    "df.schema.fields"
   ]
  },
  {
   "cell_type": "code",
   "execution_count": 5,
   "id": "fc7811d2",
   "metadata": {},
   "outputs": [],
   "source": [
    "# Importando tipos primitivos Spark\n",
    "from pyspark.sql.types import StructField, StructType, StringType, LongType\n",
    "\n",
    "# Criando metadados manualmente\n",
    "DF_SCHEMA = StructType([\n",
    "    StructField(\"DEST_COUNTRY_NAME\", StringType(), True),\n",
    "    StructField(\"ORIGIN_COUNTRY_NAME\", StringType(), True),\n",
    "    StructField(\"count\", LongType(), False, metadata={\"hello\": \"world\"})\n",
    "])\n",
    "\n",
    "# Lendo dados com schema explícito\n",
    "df = spark.read.format(\"json\")\\\n",
    "    .schema(DF_SCHEMA)\\\n",
    "    .load(DATA_PATH)"
   ]
  },
  {
   "cell_type": "markdown",
   "id": "3386b9d8",
   "metadata": {},
   "source": [
    "# Colunas e Expressões"
   ]
  },
  {
   "cell_type": "code",
   "execution_count": 6,
   "id": "e0864f26",
   "metadata": {},
   "outputs": [
    {
     "data": {
      "text/plain": [
       "Column<'algum_nome_de_coluna'>"
      ]
     },
     "execution_count": 6,
     "metadata": {},
     "output_type": "execute_result"
    }
   ],
   "source": [
    "# Importando funções\n",
    "from pyspark.sql.functions import col, column\n",
    "\n",
    "# Referenciando colunas\n",
    "col('algum_nome_de_coluna')\n",
    "column('algum_nome_de_coluna')"
   ]
  },
  {
   "cell_type": "code",
   "execution_count": 7,
   "id": "5ff2fb99",
   "metadata": {},
   "outputs": [
    {
     "data": {
      "text/plain": [
       "Column<'((((column_A + 5) * 200) - 6) < column_B)'>"
      ]
     },
     "execution_count": 7,
     "metadata": {},
     "output_type": "execute_result"
    }
   ],
   "source": [
    "# Importando funções\n",
    "from pyspark.sql.functions import col, expr\n",
    "\n",
    "# Transformação via \"col\"\n",
    "(((col(\"column_A\") + 5) * 200) - 6) < col(\"column_B\")\n",
    "\n",
    "# Transformação via \"expr\"\n",
    "expr(\"(((column_A + 5) * 200) - 6) < column_B\")"
   ]
  },
  {
   "cell_type": "code",
   "execution_count": 8,
   "id": "982c23ed",
   "metadata": {},
   "outputs": [
    {
     "name": "stdout",
     "output_type": "stream",
     "text": [
      "Row(DEST_COUNTRY_NAME='United States', ORIGIN_COUNTRY_NAME='Romania', count=15)\n",
      "\n",
      "Dest: United States\n",
      "Orig: Romania\n",
      "Count: 15\n"
     ]
    }
   ],
   "source": [
    "# Verificando linhas\n",
    "print(df.first())\n",
    "\n",
    "# Acessando valores\n",
    "print()\n",
    "print(f'Dest: {df.first()[0]}')\n",
    "print(f'Orig: {df.first()[1]}')\n",
    "print(f'Count: {df.first()[-1]}')"
   ]
  },
  {
   "cell_type": "code",
   "execution_count": 9,
   "id": "f8e633ab",
   "metadata": {},
   "outputs": [],
   "source": [
    "# Criando linhas manualmente\n",
    "from pyspark.sql import Row\n",
    "\n",
    "row = Row('Brasil', 'United States', 10)"
   ]
  },
  {
   "cell_type": "markdown",
   "id": "43353cbc",
   "metadata": {},
   "source": [
    "# Transformações em DataFrames"
   ]
  },
  {
   "cell_type": "code",
   "execution_count": 10,
   "id": "27e16a63",
   "metadata": {},
   "outputs": [
    {
     "name": "stdout",
     "output_type": "stream",
     "text": [
      "+-----------------+-------------------+-----+\n",
      "|DEST_COUNTRY_NAME|ORIGIN_COUNTRY_NAME|count|\n",
      "+-----------------+-------------------+-----+\n",
      "|    United States|            Romania|   15|\n",
      "|    United States|            Croatia|    1|\n",
      "|    United States|            Ireland|  344|\n",
      "|            Egypt|      United States|   15|\n",
      "|    United States|              India|   62|\n",
      "+-----------------+-------------------+-----+\n",
      "only showing top 5 rows\n",
      "\n"
     ]
    }
   ],
   "source": [
    "# Lendo base de dados\n",
    "df = spark.read.format('json').load(DATA_PATH)\n",
    "df.show(5)"
   ]
  },
  {
   "cell_type": "code",
   "execution_count": 11,
   "id": "4f274172",
   "metadata": {},
   "outputs": [
    {
     "name": "stdout",
     "output_type": "stream",
     "text": [
      "+-----+-----+-----+\n",
      "|col_1|col_2|col_3|\n",
      "+-----+-----+-----+\n",
      "|Hello|World|    1|\n",
      "+-----+-----+-----+\n",
      "\n"
     ]
    }
   ],
   "source": [
    "# Importando módulos\n",
    "from pyspark.sql.types import StructType, StructField, StringType, LongType\n",
    "from pyspark.sql import Row\n",
    "\n",
    "# Criando schema manualmente\n",
    "MY_SCHEMA = StructType([\n",
    "    StructField(\"col_1\", StringType(), True),\n",
    "    StructField(\"col_2\", StringType(), True),\n",
    "    StructField(\"col_3\", LongType(), False)\n",
    "])\n",
    "\n",
    "# Criando registro manualmente\n",
    "MY_ROW = Row(\"Hello\", \"World\", 1)\n",
    "\n",
    "# Criando DataFrame manualmente\n",
    "df = spark.createDataFrame([MY_ROW], MY_SCHEMA)\n",
    "df.show()"
   ]
  },
  {
   "cell_type": "markdown",
   "id": "c72774e3",
   "metadata": {},
   "source": [
    "## select e selectExpr"
   ]
  },
  {
   "cell_type": "code",
   "execution_count": 12,
   "id": "0936279c",
   "metadata": {},
   "outputs": [
    {
     "name": "stdout",
     "output_type": "stream",
     "text": [
      "+-----------------+-------------------+-----+\n",
      "|DEST_COUNTRY_NAME|ORIGIN_COUNTRY_NAME|count|\n",
      "+-----------------+-------------------+-----+\n",
      "|    United States|            Romania|   15|\n",
      "|    United States|            Croatia|    1|\n",
      "|    United States|            Ireland|  344|\n",
      "|            Egypt|      United States|   15|\n",
      "|    United States|              India|   62|\n",
      "+-----------------+-------------------+-----+\n",
      "only showing top 5 rows\n",
      "\n"
     ]
    }
   ],
   "source": [
    "# Lendo base de dados\n",
    "df = spark.read.format('json').load(DATA_PATH)\n",
    "df.show(5)"
   ]
  },
  {
   "cell_type": "code",
   "execution_count": 13,
   "id": "6de735fb",
   "metadata": {},
   "outputs": [
    {
     "name": "stdout",
     "output_type": "stream",
     "text": [
      "+-----------------+\n",
      "|DEST_COUNTRY_NAME|\n",
      "+-----------------+\n",
      "|    United States|\n",
      "|    United States|\n",
      "+-----------------+\n",
      "only showing top 2 rows\n",
      "\n"
     ]
    }
   ],
   "source": [
    "# Selecionando coluna\n",
    "df.select('DEST_COUNTRY_NAME').show(2)\n",
    "\n",
    "# Análogo a: \n",
    "# SELECT DEST_COUNTRY_NAME FROM df LIMIT 2"
   ]
  },
  {
   "cell_type": "code",
   "execution_count": 14,
   "id": "b32218b9",
   "metadata": {},
   "outputs": [
    {
     "name": "stdout",
     "output_type": "stream",
     "text": [
      "+-----------------+-------------------+\n",
      "|DEST_COUNTRY_NAME|ORIGIN_COUNTRY_NAME|\n",
      "+-----------------+-------------------+\n",
      "|    United States|            Romania|\n",
      "|    United States|            Croatia|\n",
      "+-----------------+-------------------+\n",
      "only showing top 2 rows\n",
      "\n"
     ]
    }
   ],
   "source": [
    "# Selecionando múltiplas colunas\n",
    "df.select('DEST_COUNTRY_NAME', 'ORIGIN_COUNTRY_NAME').show(2)\n",
    "\n",
    "# Análogo a:\n",
    "# SELECT DEST_COUNTRY_NAME, ORIGIN_COUNTRY_NAME FROM df LIMIT 2"
   ]
  },
  {
   "cell_type": "code",
   "execution_count": 15,
   "id": "eaa8bb3a",
   "metadata": {},
   "outputs": [
    {
     "name": "stdout",
     "output_type": "stream",
     "text": [
      "+-----------------+-----------------+-----------------+\n",
      "|DEST_COUNTRY_NAME|DEST_COUNTRY_NAME|DEST_COUNTRY_NAME|\n",
      "+-----------------+-----------------+-----------------+\n",
      "|    United States|    United States|    United States|\n",
      "|    United States|    United States|    United States|\n",
      "+-----------------+-----------------+-----------------+\n",
      "only showing top 2 rows\n",
      "\n"
     ]
    }
   ],
   "source": [
    "# Importando funções\n",
    "from pyspark.sql.functions import col, column, expr\n",
    "\n",
    "# Referenciando colunas\n",
    "df.select(\n",
    "    col('DEST_COUNTRY_NAME'),\n",
    "    column('DEST_COUNTRY_NAME'),\n",
    "    expr('DEST_COUNTRY_NAME')\n",
    ").show(2)"
   ]
  },
  {
   "cell_type": "code",
   "execution_count": 16,
   "id": "b6f61e0e",
   "metadata": {},
   "outputs": [
    {
     "name": "stdout",
     "output_type": "stream",
     "text": [
      "+-------------+\n",
      "|  destination|\n",
      "+-------------+\n",
      "|United States|\n",
      "|United States|\n",
      "+-------------+\n",
      "only showing top 2 rows\n",
      "\n"
     ]
    }
   ],
   "source": [
    "# Renomeando coluna via expr()\n",
    "df.select(expr('DEST_COUNTRY_NAME AS destination')).show(2)"
   ]
  },
  {
   "cell_type": "code",
   "execution_count": 17,
   "id": "cb77d359",
   "metadata": {},
   "outputs": [
    {
     "name": "stdout",
     "output_type": "stream",
     "text": [
      "+-------------+\n",
      "|  destination|\n",
      "+-------------+\n",
      "|United States|\n",
      "|United States|\n",
      "+-------------+\n",
      "only showing top 2 rows\n",
      "\n"
     ]
    }
   ],
   "source": [
    "# Renomeando coluna via col()\n",
    "df.select(col('DEST_COUNTRY_NAME').alias('destination')).show(2)"
   ]
  },
  {
   "cell_type": "code",
   "execution_count": 18,
   "id": "b3b414a2",
   "metadata": {},
   "outputs": [
    {
     "name": "stdout",
     "output_type": "stream",
     "text": [
      "+-------------+-------+\n",
      "|  destination| origin|\n",
      "+-------------+-------+\n",
      "|United States|Romania|\n",
      "|United States|Croatia|\n",
      "+-------------+-------+\n",
      "only showing top 2 rows\n",
      "\n"
     ]
    }
   ],
   "source": [
    "# Selecionando múltiplas colunas com select + expr\n",
    "df.select(\n",
    "    expr('DEST_COUNTRY_NAME AS destination'), \n",
    "    expr('ORIGIN_COUNTRY_NAME AS origin')\n",
    ").show(2)"
   ]
  },
  {
   "cell_type": "code",
   "execution_count": 19,
   "id": "a635048a",
   "metadata": {},
   "outputs": [
    {
     "name": "stdout",
     "output_type": "stream",
     "text": [
      "+-------------+-------+\n",
      "|  destination| origin|\n",
      "+-------------+-------+\n",
      "|United States|Romania|\n",
      "|United States|Croatia|\n",
      "+-------------+-------+\n",
      "only showing top 2 rows\n",
      "\n"
     ]
    }
   ],
   "source": [
    "# Selecionando múltiplas colunas com selectExpr\n",
    "df.selectExpr('DEST_COUNTRY_NAME AS destination', \n",
    "              'ORIGIN_COUNTRY_NAME AS origin').show(2)"
   ]
  },
  {
   "cell_type": "code",
   "execution_count": 20,
   "id": "b4b9e523",
   "metadata": {},
   "outputs": [
    {
     "name": "stdout",
     "output_type": "stream",
     "text": [
      "+-----------------+-------------------+-----+--------------+\n",
      "|DEST_COUNTRY_NAME|ORIGIN_COUNTRY_NAME|count|within_country|\n",
      "+-----------------+-------------------+-----+--------------+\n",
      "|    United States|            Romania|   15|         false|\n",
      "|    United States|            Croatia|    1|         false|\n",
      "+-----------------+-------------------+-----+--------------+\n",
      "only showing top 2 rows\n",
      "\n"
     ]
    }
   ],
   "source": [
    "# Adicionando colunas\n",
    "df.selectExpr(\n",
    "    \"*\", # todas as colunas\n",
    "    \"(DEST_COUNTRY_NAME = ORIGIN_COUNTRY_NAME) AS within_country\"\n",
    ").show(2)\n",
    "\n",
    "# Em SQL:\n",
    "# SELECT *, (DEST_COUNTRY_NAME = ORIGIN_COUNTRY_NAME) AS within_country \n",
    "# FROM df LIMIT 2"
   ]
  },
  {
   "cell_type": "code",
   "execution_count": 21,
   "id": "9bc818bd",
   "metadata": {},
   "outputs": [
    {
     "name": "stdout",
     "output_type": "stream",
     "text": [
      "+----------+---------+\n",
      "|total_rows|sum_count|\n",
      "+----------+---------+\n",
      "|       256|   453316|\n",
      "+----------+---------+\n",
      "\n"
     ]
    }
   ],
   "source": [
    "# Selecionando apenas agregados (sem GROUP BY)\n",
    "df.selectExpr(\"count(DEST_COUNTRY_NAME) AS total_rows\", \"sum(count) AS sum_count\").show()"
   ]
  },
  {
   "cell_type": "markdown",
   "id": "d1d1ba02",
   "metadata": {},
   "source": [
    "## Literais"
   ]
  },
  {
   "cell_type": "code",
   "execution_count": 22,
   "id": "8738c92a",
   "metadata": {},
   "outputs": [
    {
     "name": "stdout",
     "output_type": "stream",
     "text": [
      "+-----------------+-------------------+-----+---+\n",
      "|DEST_COUNTRY_NAME|ORIGIN_COUNTRY_NAME|count|One|\n",
      "+-----------------+-------------------+-----+---+\n",
      "|    United States|            Romania|   15|  1|\n",
      "|    United States|            Croatia|    1|  1|\n",
      "+-----------------+-------------------+-----+---+\n",
      "only showing top 2 rows\n",
      "\n"
     ]
    }
   ],
   "source": [
    "# Importando função\n",
    "from pyspark.sql.functions import lit\n",
    "\n",
    "# Adicionando coluna com literal (select)\n",
    "df.select(expr(\"*\"), lit(1).alias(\"One\")).show(2)"
   ]
  },
  {
   "cell_type": "code",
   "execution_count": 23,
   "id": "269c0c6e",
   "metadata": {},
   "outputs": [
    {
     "name": "stdout",
     "output_type": "stream",
     "text": [
      "+-----------------+-------------------+-----+---+\n",
      "|DEST_COUNTRY_NAME|ORIGIN_COUNTRY_NAME|count|One|\n",
      "+-----------------+-------------------+-----+---+\n",
      "|    United States|            Romania|   15|  1|\n",
      "|    United States|            Croatia|    1|  1|\n",
      "+-----------------+-------------------+-----+---+\n",
      "only showing top 2 rows\n",
      "\n"
     ]
    }
   ],
   "source": [
    "# Adicionando coluna com literal (selectExpr)\n",
    "df.selectExpr(\"*\", \"1 AS One\").show(2)"
   ]
  },
  {
   "cell_type": "markdown",
   "id": "f0774010",
   "metadata": {},
   "source": [
    "## Adição de Colunas"
   ]
  },
  {
   "cell_type": "code",
   "execution_count": 24,
   "id": "dc0329e9",
   "metadata": {},
   "outputs": [
    {
     "name": "stdout",
     "output_type": "stream",
     "text": [
      "+-----------------+-------------------+-----+---+\n",
      "|DEST_COUNTRY_NAME|ORIGIN_COUNTRY_NAME|count|One|\n",
      "+-----------------+-------------------+-----+---+\n",
      "|    United States|            Romania|   15|  1|\n",
      "|    United States|            Croatia|    1|  1|\n",
      "+-----------------+-------------------+-----+---+\n",
      "only showing top 2 rows\n",
      "\n"
     ]
    }
   ],
   "source": [
    "# Adição de literais\n",
    "df.withColumn(\"One\", lit(1)).show(2)"
   ]
  },
  {
   "cell_type": "code",
   "execution_count": 25,
   "id": "1af3ff4e",
   "metadata": {},
   "outputs": [
    {
     "name": "stdout",
     "output_type": "stream",
     "text": [
      "+-----------------+-------------------+-----+--------------+\n",
      "|DEST_COUNTRY_NAME|ORIGIN_COUNTRY_NAME|count|within_country|\n",
      "+-----------------+-------------------+-----+--------------+\n",
      "|    United States|            Romania|   15|         false|\n",
      "|    United States|            Croatia|    1|         false|\n",
      "+-----------------+-------------------+-----+--------------+\n",
      "only showing top 2 rows\n",
      "\n"
     ]
    }
   ],
   "source": [
    "# Adição de flags\n",
    "df.withColumn(\"within_country\", expr(\"(DEST_COUNTRY_NAME = ORIGIN_COUNTRY_NAME)\")).show(2)"
   ]
  },
  {
   "cell_type": "markdown",
   "id": "28977289",
   "metadata": {},
   "source": [
    "## Renomeando Colunas"
   ]
  },
  {
   "cell_type": "code",
   "execution_count": 26,
   "id": "2b97c3c5",
   "metadata": {},
   "outputs": [
    {
     "name": "stdout",
     "output_type": "stream",
     "text": [
      "+-------------+-------------------+-----+\n",
      "|         dest|ORIGIN_COUNTRY_NAME|count|\n",
      "+-------------+-------------------+-----+\n",
      "|United States|            Romania|   15|\n",
      "|United States|            Croatia|    1|\n",
      "+-------------+-------------------+-----+\n",
      "only showing top 2 rows\n",
      "\n"
     ]
    }
   ],
   "source": [
    "# Renomeando colunas\n",
    "df.withColumnRenamed(\"DEST_COUNTRY_NAME\", \"dest\").show(2)"
   ]
  },
  {
   "cell_type": "markdown",
   "id": "28251be0",
   "metadata": {},
   "source": [
    "## Removendo Colunas"
   ]
  },
  {
   "cell_type": "code",
   "execution_count": 27,
   "id": "896bb0c4",
   "metadata": {},
   "outputs": [
    {
     "name": "stdout",
     "output_type": "stream",
     "text": [
      "+-------------------+-----+\n",
      "|ORIGIN_COUNTRY_NAME|count|\n",
      "+-------------------+-----+\n",
      "|            Romania|   15|\n",
      "|            Croatia|    1|\n",
      "+-------------------+-----+\n",
      "only showing top 2 rows\n",
      "\n"
     ]
    }
   ],
   "source": [
    "# Removendo uma coluna\n",
    "df.drop(\"DEST_COUNTRY_NAME\").show(2)"
   ]
  },
  {
   "cell_type": "code",
   "execution_count": 28,
   "id": "e9ba370e",
   "metadata": {},
   "outputs": [
    {
     "name": "stdout",
     "output_type": "stream",
     "text": [
      "+-----------------+\n",
      "|DEST_COUNTRY_NAME|\n",
      "+-----------------+\n",
      "|    United States|\n",
      "|    United States|\n",
      "+-----------------+\n",
      "only showing top 2 rows\n",
      "\n"
     ]
    }
   ],
   "source": [
    "# Removendo múltiplas colunas\n",
    "df.drop(\"ORIGIN_COUNTRY_NAME\", \"count\").show(2)"
   ]
  },
  {
   "cell_type": "markdown",
   "id": "4c07b117",
   "metadata": {},
   "source": [
    "## Casting"
   ]
  },
  {
   "cell_type": "code",
   "execution_count": 29,
   "id": "e61a67cb",
   "metadata": {},
   "outputs": [
    {
     "name": "stdout",
     "output_type": "stream",
     "text": [
      "Schema original:\n",
      "root\n",
      " |-- DEST_COUNTRY_NAME: string (nullable = true)\n",
      " |-- ORIGIN_COUNTRY_NAME: string (nullable = true)\n",
      " |-- count: long (nullable = true)\n",
      "\n",
      "Schema após casting:\n",
      "root\n",
      " |-- DEST_COUNTRY_NAME: string (nullable = true)\n",
      " |-- ORIGIN_COUNTRY_NAME: string (nullable = true)\n",
      " |-- count: long (nullable = true)\n",
      " |-- count_2: integer (nullable = true)\n",
      "\n"
     ]
    }
   ],
   "source": [
    "print('Schema original:')\n",
    "df.printSchema()\n",
    "\n",
    "# Criando nova coluna com tipo primitivo alterado\n",
    "df_cast = df.withColumn(\"count_2\", col(\"count\").cast(\"int\"))\n",
    "print('Schema após casting:')\n",
    "df_cast.printSchema()"
   ]
  },
  {
   "cell_type": "code",
   "execution_count": 30,
   "id": "73a5b9e8",
   "metadata": {},
   "outputs": [
    {
     "name": "stdout",
     "output_type": "stream",
     "text": [
      "root\n",
      " |-- DEST_COUNTRY_NAME: string (nullable = true)\n",
      " |-- ORIGIN_COUNTRY_NAME: string (nullable = true)\n",
      " |-- count: long (nullable = true)\n",
      " |-- count_2: integer (nullable = true)\n",
      " |-- count_3: string (nullable = true)\n",
      "\n"
     ]
    }
   ],
   "source": [
    "# Alterando schema via selectExpr\n",
    "df_cast2 = df_cast.withColumn(\"count_3\", expr(\"cast(count AS STRING)\"))\n",
    "df_cast2.printSchema()"
   ]
  },
  {
   "cell_type": "code",
   "execution_count": 31,
   "id": "f6b63485",
   "metadata": {},
   "outputs": [
    {
     "name": "stdout",
     "output_type": "stream",
     "text": [
      "+-----------------+-------------------+-----+--------------+\n",
      "|DEST_COUNTRY_NAME|ORIGIN_COUNTRY_NAME|count|within_country|\n",
      "+-----------------+-------------------+-----+--------------+\n",
      "|    United States|            Romania|   15|         false|\n",
      "|    United States|            Croatia|    1|         false|\n",
      "+-----------------+-------------------+-----+--------------+\n",
      "only showing top 2 rows\n",
      "\n"
     ]
    }
   ],
   "source": [
    "df.withColumn(\"within_country\", col(\"DEST_COUNTRY_NAME\") == col(\"ORIGIN_COUNTRY_NAME\")).show(2)"
   ]
  },
  {
   "cell_type": "code",
   "execution_count": 32,
   "id": "a901b4bb",
   "metadata": {},
   "outputs": [
    {
     "name": "stdout",
     "output_type": "stream",
     "text": [
      "+-----------------+-------------------+-----+--------------+\n",
      "|DEST_COUNTRY_NAME|ORIGIN_COUNTRY_NAME|count|within_country|\n",
      "+-----------------+-------------------+-----+--------------+\n",
      "|    United States|            Romania|   15|         false|\n",
      "|    United States|            Croatia|    1|         false|\n",
      "+-----------------+-------------------+-----+--------------+\n",
      "only showing top 2 rows\n",
      "\n"
     ]
    }
   ],
   "source": [
    "df.withColumn(\"within_country\", expr('DEST_COUNTRY_NAME = ORIGIN_COUNTRY_NAME')).show(2)"
   ]
  },
  {
   "cell_type": "markdown",
   "id": "6c776cf1",
   "metadata": {},
   "source": [
    "## Filtrando Registros"
   ]
  },
  {
   "cell_type": "code",
   "execution_count": 33,
   "id": "80d41b50",
   "metadata": {},
   "outputs": [
    {
     "name": "stdout",
     "output_type": "stream",
     "text": [
      "+-----------------+-------------------+-----+\n",
      "|DEST_COUNTRY_NAME|ORIGIN_COUNTRY_NAME|count|\n",
      "+-----------------+-------------------+-----+\n",
      "|    United States|            Croatia|    1|\n",
      "|    United States|          Singapore|    1|\n",
      "+-----------------+-------------------+-----+\n",
      "only showing top 2 rows\n",
      "\n"
     ]
    }
   ],
   "source": [
    "# Filtrando registros (referência de colunas)\n",
    "df.where(col(\"count\") < 2).show(2)"
   ]
  },
  {
   "cell_type": "code",
   "execution_count": 34,
   "id": "88d0f7b6",
   "metadata": {},
   "outputs": [
    {
     "name": "stdout",
     "output_type": "stream",
     "text": [
      "+-----------------+-------------------+-----+\n",
      "|DEST_COUNTRY_NAME|ORIGIN_COUNTRY_NAME|count|\n",
      "+-----------------+-------------------+-----+\n",
      "|    United States|            Croatia|    1|\n",
      "|    United States|          Singapore|    1|\n",
      "+-----------------+-------------------+-----+\n",
      "only showing top 2 rows\n",
      "\n"
     ]
    }
   ],
   "source": [
    "# Filtrando registros (expressões em String)\n",
    "df.where(\"count < 2\").show(2)"
   ]
  },
  {
   "cell_type": "code",
   "execution_count": 35,
   "id": "36d66bdd",
   "metadata": {},
   "outputs": [
    {
     "name": "stdout",
     "output_type": "stream",
     "text": [
      "+-----------------+-------------------+-----+\n",
      "|DEST_COUNTRY_NAME|ORIGIN_COUNTRY_NAME|count|\n",
      "+-----------------+-------------------+-----+\n",
      "|    United States|          Singapore|    1|\n",
      "|          Moldova|      United States|    1|\n",
      "+-----------------+-------------------+-----+\n",
      "only showing top 2 rows\n",
      "\n"
     ]
    }
   ],
   "source": [
    "# Aplicando múltiplos filtros (forma não usual)\n",
    "df.where(\"count < 2 AND ORIGIN_COUNTRY_NAME != 'Croatia'\").show(2)"
   ]
  },
  {
   "cell_type": "code",
   "execution_count": 36,
   "id": "2feba98a",
   "metadata": {},
   "outputs": [
    {
     "name": "stdout",
     "output_type": "stream",
     "text": [
      "+-----------------+-------------------+-----+\n",
      "|DEST_COUNTRY_NAME|ORIGIN_COUNTRY_NAME|count|\n",
      "+-----------------+-------------------+-----+\n",
      "|    United States|          Singapore|    1|\n",
      "|          Moldova|      United States|    1|\n",
      "+-----------------+-------------------+-----+\n",
      "only showing top 2 rows\n",
      "\n"
     ]
    }
   ],
   "source": [
    "# Aplicando múltiplos filtros (forma usual)\n",
    "df.where(\"count < 2\")\\\n",
    "    .where(\"ORIGIN_COUNTRY_NAME != 'Croatia'\")\\\n",
    "    .show(2)"
   ]
  },
  {
   "cell_type": "markdown",
   "id": "7ba9fdc3",
   "metadata": {},
   "source": [
    "## Removendo Duplicatas\n"
   ]
  },
  {
   "cell_type": "code",
   "execution_count": 37,
   "id": "5e81ba1b",
   "metadata": {},
   "outputs": [
    {
     "data": {
      "text/plain": [
       "132"
      ]
     },
     "execution_count": 37,
     "metadata": {},
     "output_type": "execute_result"
    }
   ],
   "source": [
    "# Removendo duplicatas em uma coluna\n",
    "df.select('DEST_COUNTRY_NAME').distinct().count()"
   ]
  },
  {
   "cell_type": "code",
   "execution_count": 38,
   "id": "43454ce3",
   "metadata": {},
   "outputs": [
    {
     "data": {
      "text/plain": [
       "256"
      ]
     },
     "execution_count": 38,
     "metadata": {},
     "output_type": "execute_result"
    }
   ],
   "source": [
    "# Removendo duplicatas em duas colunas\n",
    "df.select('DEST_COUNTRY_NAME', 'ORIGIN_COUNTRY_NAME').distinct().count()"
   ]
  },
  {
   "cell_type": "markdown",
   "id": "f85e640a",
   "metadata": {},
   "source": [
    "# Amostragem Aleatória"
   ]
  },
  {
   "cell_type": "code",
   "execution_count": 39,
   "id": "d80de641",
   "metadata": {},
   "outputs": [
    {
     "data": {
      "text/plain": [
       "132"
      ]
     },
     "execution_count": 39,
     "metadata": {},
     "output_type": "execute_result"
    }
   ],
   "source": [
    "# Realizando amostragem em um DataFrame\n",
    "df.sample(withReplacement=False, fraction=0.5, seed=42).count()"
   ]
  },
  {
   "cell_type": "code",
   "execution_count": 40,
   "id": "f4257de1",
   "metadata": {},
   "outputs": [
    {
     "name": "stdout",
     "output_type": "stream",
     "text": [
      "DF Original: 256\n",
      "DF[0]: 63\n",
      "DF[1]: 193\n"
     ]
    }
   ],
   "source": [
    "# Separando DataFrame em blocos distintos\n",
    "dataframes = df.randomSplit(weights=[0.25, 0.75], seed=42)\n",
    "print(f'DF Original: {df.count()}')\n",
    "print(f'DF[0]: {dataframes[0].count()}')\n",
    "print(f'DF[1]: {dataframes[1].count()}')"
   ]
  },
  {
   "cell_type": "markdown",
   "id": "8fc09522",
   "metadata": {},
   "source": [
    "Como a função `randomSplit()` retorna uma lista composta por DataFrames de acordo com os pesos passados, seu retorno pode já ser associado a novos DataFrames, evitando assim a necessidade de realizar indexação."
   ]
  },
  {
   "cell_type": "code",
   "execution_count": 41,
   "id": "6918aa87",
   "metadata": {},
   "outputs": [
    {
     "name": "stdout",
     "output_type": "stream",
     "text": [
      "train: 63\n",
      "test: 193\n"
     ]
    }
   ],
   "source": [
    "# Separando e associando DataFrames\n",
    "train, test = df.randomSplit(weights=[0.25, 0.75], seed=42)\n",
    "print(f'train: {train.count()}')\n",
    "print(f'test: {test.count()}')"
   ]
  },
  {
   "cell_type": "markdown",
   "id": "9527032d",
   "metadata": {},
   "source": [
    "## Unindo DataFrames\n"
   ]
  },
  {
   "cell_type": "code",
   "execution_count": 42,
   "id": "e644c15a",
   "metadata": {},
   "outputs": [
    {
     "name": "stdout",
     "output_type": "stream",
     "text": [
      "+-----------------+-------------------+-----+\n",
      "|DEST_COUNTRY_NAME|ORIGIN_COUNTRY_NAME|count|\n",
      "+-----------------+-------------------+-----+\n",
      "|           Brazil|      United States|  853|\n",
      "|           Brazil|             Canada|    5|\n",
      "|           Brazil|          Argentina|    1|\n",
      "+-----------------+-------------------+-----+\n",
      "\n"
     ]
    }
   ],
   "source": [
    "from pyspark.sql import Row\n",
    "\n",
    "# Criando registros manualmente\n",
    "newRows = [\n",
    "    Row('Brazil', 'Canada', 5),\n",
    "    Row('Brazil', 'Argentina', 1)\n",
    "]\n",
    "\n",
    "# Construindo um novo DataFrame\n",
    "originalSchema = df.schema\n",
    "paralellizedRows = spark.sparkContext.parallelize(newRows)\n",
    "newDF = spark.createDataFrame(paralellizedRows, originalSchema)\n",
    "\n",
    "# Unindo DataFrames e realizando consulta\n",
    "df.union(newDF)\\\n",
    "    .where(col(\"DEST_COUNTRY_NAME\") == \"Brazil\").show()"
   ]
  },
  {
   "cell_type": "markdown",
   "id": "00a0f5b6",
   "metadata": {},
   "source": [
    "## Ordenando DataFrames"
   ]
  },
  {
   "cell_type": "code",
   "execution_count": 43,
   "id": "e3194682",
   "metadata": {},
   "outputs": [
    {
     "name": "stdout",
     "output_type": "stream",
     "text": [
      "+-----------------+-------------------+------+\n",
      "|DEST_COUNTRY_NAME|ORIGIN_COUNTRY_NAME| count|\n",
      "+-----------------+-------------------+------+\n",
      "|    United States|      United States|370002|\n",
      "|    United States|             Canada|  8483|\n",
      "|           Canada|      United States|  8399|\n",
      "|    United States|             Mexico|  7187|\n",
      "|           Mexico|      United States|  7140|\n",
      "+-----------------+-------------------+------+\n",
      "only showing top 5 rows\n",
      "\n"
     ]
    }
   ],
   "source": [
    "# Importando funções\n",
    "from pyspark.sql.functions import asc, desc\n",
    "\n",
    "# Ordenando registros - descendente\n",
    "df.sort(col(\"count\").desc()).show(5)"
   ]
  },
  {
   "cell_type": "code",
   "execution_count": 44,
   "id": "c9305c5b",
   "metadata": {},
   "outputs": [
    {
     "name": "stdout",
     "output_type": "stream",
     "text": [
      "+-----------------+-------------------+-----+\n",
      "|DEST_COUNTRY_NAME|ORIGIN_COUNTRY_NAME|count|\n",
      "+-----------------+-------------------+-----+\n",
      "|     Burkina Faso|      United States|    1|\n",
      "|    Cote d'Ivoire|      United States|    1|\n",
      "|           Cyprus|      United States|    1|\n",
      "|         Djibouti|      United States|    1|\n",
      "|        Indonesia|      United States|    1|\n",
      "+-----------------+-------------------+-----+\n",
      "only showing top 5 rows\n",
      "\n"
     ]
    }
   ],
   "source": [
    "# Ordenando registros - múltiplas colunas\n",
    "df.sort(expr(\"count asc\"), col(\"DEST_COUNTRY_NAME\").asc()).show(5)"
   ]
  },
  {
   "cell_type": "markdown",
   "id": "41357cb4",
   "metadata": {},
   "source": [
    "## Limitando Registros"
   ]
  },
  {
   "cell_type": "code",
   "execution_count": 45,
   "id": "ddb55612",
   "metadata": {},
   "outputs": [
    {
     "name": "stdout",
     "output_type": "stream",
     "text": [
      "+-----------------+-------------------+------+\n",
      "|DEST_COUNTRY_NAME|ORIGIN_COUNTRY_NAME| count|\n",
      "+-----------------+-------------------+------+\n",
      "|    United States|      United States|370002|\n",
      "|    United States|             Canada|  8483|\n",
      "|           Canada|      United States|  8399|\n",
      "+-----------------+-------------------+------+\n",
      "\n"
     ]
    }
   ],
   "source": [
    "# Limitando registros\n",
    "df.sort(col(\"count\").desc()).limit(3).show()"
   ]
  },
  {
   "cell_type": "markdown",
   "id": "37cb5da6",
   "metadata": {},
   "source": [
    "# Reparticionamento"
   ]
  },
  {
   "cell_type": "code",
   "execution_count": 51,
   "id": "07817a6c",
   "metadata": {},
   "outputs": [
    {
     "name": "stdout",
     "output_type": "stream",
     "text": [
      "Partições do DataFrame: 1\n",
      "Partições do DataFrame: 5\n",
      "Partições do DataFrame: 5\n"
     ]
    }
   ],
   "source": [
    "# Coletando o número de partições\n",
    "print(f'Partições do DataFrame: {df.rdd.getNumPartitions()}')\n",
    "\n",
    "# Reparticionando - número fixo\n",
    "df_rep5 = df.repartition(5)\n",
    "print(f'Partições do DataFrame: {df_rep5.rdd.getNumPartitions()}')\n",
    "\n",
    "# Reparticionando - coluna da base\n",
    "df_base5 = df.repartition(5, col(\"DEST_COUNTRY_NAME\"))\n",
    "print(f'Partições do DataFrame: {df_base5.rdd.getNumPartitions()}')"
   ]
  },
  {
   "cell_type": "markdown",
   "id": "8db35f42",
   "metadata": {},
   "source": [
    "## Coletando Registros no Driver"
   ]
  },
  {
   "cell_type": "code",
   "execution_count": 67,
   "id": "e3082bb0",
   "metadata": {},
   "outputs": [
    {
     "data": {
      "text/plain": [
       "[Row(DEST_COUNTRY_NAME='United States', ORIGIN_COUNTRY_NAME='Romania', count=15),\n",
       " Row(DEST_COUNTRY_NAME='United States', ORIGIN_COUNTRY_NAME='Croatia', count=1),\n",
       " Row(DEST_COUNTRY_NAME='United States', ORIGIN_COUNTRY_NAME='Ireland', count=344)]"
      ]
     },
     "execution_count": 67,
     "metadata": {},
     "output_type": "execute_result"
    }
   ],
   "source": [
    "# Preparando DataFrame reduzido\n",
    "df_collect = df.limit(5)\n",
    "\n",
    "# Coletando N registros\n",
    "df_collect.take(3)"
   ]
  },
  {
   "cell_type": "code",
   "execution_count": 68,
   "id": "e4316264",
   "metadata": {},
   "outputs": [
    {
     "data": {
      "text/plain": [
       "[Row(DEST_COUNTRY_NAME='United States', ORIGIN_COUNTRY_NAME='Romania', count=15),\n",
       " Row(DEST_COUNTRY_NAME='United States', ORIGIN_COUNTRY_NAME='Croatia', count=1),\n",
       " Row(DEST_COUNTRY_NAME='United States', ORIGIN_COUNTRY_NAME='Ireland', count=344),\n",
       " Row(DEST_COUNTRY_NAME='Egypt', ORIGIN_COUNTRY_NAME='United States', count=15),\n",
       " Row(DEST_COUNTRY_NAME='United States', ORIGIN_COUNTRY_NAME='India', count=62)]"
      ]
     },
     "execution_count": 68,
     "metadata": {},
     "output_type": "execute_result"
    }
   ],
   "source": [
    "# Coletando todos os registros\n",
    "df_collect.collect()"
   ]
  },
  {
   "cell_type": "code",
   "execution_count": 69,
   "id": "3e247c51",
   "metadata": {},
   "outputs": [
    {
     "name": "stdout",
     "output_type": "stream",
     "text": [
      "Row(DEST_COUNTRY_NAME='United States', ORIGIN_COUNTRY_NAME='Romania', count=15)\n",
      "Row(DEST_COUNTRY_NAME='United States', ORIGIN_COUNTRY_NAME='Croatia', count=1)\n",
      "Row(DEST_COUNTRY_NAME='United States', ORIGIN_COUNTRY_NAME='Ireland', count=344)\n",
      "Row(DEST_COUNTRY_NAME='Egypt', ORIGIN_COUNTRY_NAME='United States', count=15)\n",
      "Row(DEST_COUNTRY_NAME='United States', ORIGIN_COUNTRY_NAME='India', count=62)\n"
     ]
    }
   ],
   "source": [
    "# Coletando DataFrame como um iterator de partições\n",
    "for i in df_collect.toLocalIterator():\n",
    "    print(i)"
   ]
  },
  {
   "cell_type": "code",
   "execution_count": null,
   "id": "c2f035e9",
   "metadata": {},
   "outputs": [],
   "source": []
  }
 ],
 "metadata": {
  "kernelspec": {
   "display_name": "Python 3.10.4 ('pyspark-venv')",
   "language": "python",
   "name": "python3"
  },
  "language_info": {
   "codemirror_mode": {
    "name": "ipython",
    "version": 3
   },
   "file_extension": ".py",
   "mimetype": "text/x-python",
   "name": "python",
   "nbconvert_exporter": "python",
   "pygments_lexer": "ipython3",
   "version": "3.10.4"
  },
  "vscode": {
   "interpreter": {
    "hash": "a3a59d43698a1c21b8ea695e9dada7fb9edd9002f05e8c3363eca03517868e40"
   }
  }
 },
 "nbformat": 4,
 "nbformat_minor": 5
}

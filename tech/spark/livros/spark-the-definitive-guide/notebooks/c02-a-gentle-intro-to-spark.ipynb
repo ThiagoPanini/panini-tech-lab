{
 "cells": [
  {
   "cell_type": "markdown",
   "id": "e38f179c",
   "metadata": {},
   "source": [
    "**_Objetivo deste notebook:_** Os códigos aqui alocados referem-se a explorações em Spark presentes no segundo capítulo do livro _Spark: A Definitive Guide_ - A Gentle Introduction to Spark. Neste cenário, propõe-se um verdadeiro primeiro contato com o Apache Spark a partir da linguagem python utilizando a biblioteca `pyspark`. Para tal, um ambiente virtual foi criado na máquina do usuário e a instalação da biblioteca foi realizada a partir do comando `pip install pyspark`."
   ]
  },
  {
   "cell_type": "code",
   "execution_count": 1,
   "id": "7058af7c",
   "metadata": {},
   "outputs": [
    {
     "data": {
      "text/html": [
       "\n",
       "            <div>\n",
       "                <p><b>SparkSession - in-memory</b></p>\n",
       "                \n",
       "        <div>\n",
       "            <p><b>SparkContext</b></p>\n",
       "\n",
       "            <p><a href=\"http://DESKTOP-CJKTBO0:4040\">Spark UI</a></p>\n",
       "\n",
       "            <dl>\n",
       "              <dt>Version</dt>\n",
       "                <dd><code>v3.2.1</code></dd>\n",
       "              <dt>Master</dt>\n",
       "                <dd><code>local[*]</code></dd>\n",
       "              <dt>AppName</dt>\n",
       "                <dd><code>pyspark-shell</code></dd>\n",
       "            </dl>\n",
       "        </div>\n",
       "        \n",
       "            </div>\n",
       "        "
      ],
      "text/plain": [
       "<pyspark.sql.session.SparkSession at 0x1e6be3bfaf0>"
      ]
     },
     "execution_count": 1,
     "metadata": {},
     "output_type": "execute_result"
    }
   ],
   "source": [
    "# Importação do módulo pyspark\n",
    "from pyspark.sql import SparkSession\n",
    "\n",
    "# Criação de sessão\n",
    "spark = SparkSession.builder.getOrCreate()\n",
    "spark"
   ]
  },
  {
   "cell_type": "code",
   "execution_count": 2,
   "id": "9fea5baa",
   "metadata": {},
   "outputs": [],
   "source": [
    "# Importando bibliotecas adicionais e definindo variáveis de caminho\n",
    "import os\n",
    "\n",
    "DATA_PATH = 'D:\\\\Users\\\\thiagoPanini\\\\OneDrive\\\\Desenvolvimento\\\\estudos\\\\big data\\\\spark\\\\livros\\\\spark-the-definitive-guide\\\\book-github-resources\\\\Spark-The-Definitive-Guide-master\\\\data\\\\flight-data\\\\csv\\\\2015-summary.csv'"
   ]
  },
  {
   "cell_type": "code",
   "execution_count": 3,
   "id": "aed6cb6c",
   "metadata": {
    "scrolled": true
   },
   "outputs": [
    {
     "name": "stdout",
     "output_type": "stream",
     "text": [
      "DataFrame lido: \n",
      "DataFrame[DEST_COUNTRY_NAME: string, ORIGIN_COUNTRY_NAME: string, count: int]\n",
      "\n",
      "Tipo primitivo: \n",
      "<class 'pyspark.sql.dataframe.DataFrame'>\n"
     ]
    }
   ],
   "source": [
    "# Lendo arquivo via Spark\n",
    "flights_data_2015 = spark\\\n",
    "    .read\\\n",
    "    .option(\"inferSchema\", \"true\")\\\n",
    "    .option(\"header\", \"true\")\\\n",
    "    .csv(DATA_PATH)\n",
    "\n",
    "# Verificando \"conteúdo\" do objeto\n",
    "print(f'DataFrame lido: \\n{flights_data_2015}')\n",
    "print(f'\\nTipo primitivo: \\n{type(flights_data_2015)}')"
   ]
  },
  {
   "cell_type": "markdown",
   "id": "c0390bef",
   "metadata": {},
   "source": [
    "**_Observação:_** neste ponto, é importante ressaltar que o objeto `flights_data_2015` não contém nenhuma informação de quantidade de linhas. Isto pois, como visto em tópicos anteriores, a leitura dos dados é uma transformação (lazy operation) e, como nenhuma ação foi especificada, a única coisa que o Spark faz é coletar uma pequena amostra dos dados para tentar entender os tipos primitivos de cada coluna."
   ]
  },
  {
   "cell_type": "code",
   "execution_count": 4,
   "id": "41b2a695",
   "metadata": {},
   "outputs": [
    {
     "data": {
      "text/plain": [
       "[Row(DEST_COUNTRY_NAME='United States', ORIGIN_COUNTRY_NAME='Romania', count=15),\n",
       " Row(DEST_COUNTRY_NAME='United States', ORIGIN_COUNTRY_NAME='Croatia', count=1),\n",
       " Row(DEST_COUNTRY_NAME='United States', ORIGIN_COUNTRY_NAME='Ireland', count=344)]"
      ]
     },
     "execution_count": 4,
     "metadata": {},
     "output_type": "execute_result"
    }
   ],
   "source": [
    "# Coletando algumas linhas do DataFrame\n",
    "flights_data_2015.take(3)"
   ]
  },
  {
   "cell_type": "code",
   "execution_count": 5,
   "id": "9f7a7251",
   "metadata": {},
   "outputs": [
    {
     "data": {
      "text/plain": [
       "[Row(DEST_COUNTRY_NAME='Moldova', ORIGIN_COUNTRY_NAME='United States', count=1),\n",
       " Row(DEST_COUNTRY_NAME='United States', ORIGIN_COUNTRY_NAME='Croatia', count=1),\n",
       " Row(DEST_COUNTRY_NAME='United States', ORIGIN_COUNTRY_NAME='Singapore', count=1)]"
      ]
     },
     "execution_count": 5,
     "metadata": {},
     "output_type": "execute_result"
    }
   ],
   "source": [
    "# Ordenando por \"count\" e coletando nova amostra\n",
    "flights_data_2015.sort(\"count\").take(3)"
   ]
  },
  {
   "cell_type": "markdown",
   "id": "1e966dfb",
   "metadata": {},
   "source": [
    "Após a leitura da base de dados em um formato Spark DataFrame, é possível criar uma tabela temporária (view) para realizar consultas SQL a partir da execução do método `.sql()` do objeto de sessão `spark`. Vejamos os procedimentos:"
   ]
  },
  {
   "cell_type": "code",
   "execution_count": 13,
   "id": "8cd0342b",
   "metadata": {},
   "outputs": [
    {
     "name": "stdout",
     "output_type": "stream",
     "text": [
      "+-----------------+--------+\n",
      "|DEST_COUNTRY_NAME|count(1)|\n",
      "+-----------------+--------+\n",
      "|         Anguilla|       1|\n",
      "|           Russia|       1|\n",
      "|         Paraguay|       1|\n",
      "|          Senegal|       1|\n",
      "|           Sweden|       1|\n",
      "+-----------------+--------+\n",
      "only showing top 5 rows\n",
      "\n"
     ]
    }
   ],
   "source": [
    "# Criando uma view (tabela temporária no Spark)\n",
    "flights_data_2015.createOrReplaceTempView('flights_view')\n",
    "\n",
    "# Contando registros por destino de vôo via Spark SQL\n",
    "sql_way = spark.sql(\"\"\"\n",
    "    SELECT DEST_COUNTRY_NAME, count(1) FROM flights_view\n",
    "        GROUP BY DEST_COUNTRY_NAME\n",
    "\"\"\")\n",
    "\n",
    "# Mostrando resultados\n",
    "sql_way.show(5)"
   ]
  },
  {
   "cell_type": "markdown",
   "id": "7624ea8c",
   "metadata": {},
   "source": [
    "Analogamente, seria possível construir a mesma análise a partir de métodos nativos de Spark DataFrame:"
   ]
  },
  {
   "cell_type": "code",
   "execution_count": 19,
   "id": "6addbde8",
   "metadata": {},
   "outputs": [
    {
     "name": "stdout",
     "output_type": "stream",
     "text": [
      "+-----------------+-----+\n",
      "|DEST_COUNTRY_NAME|count|\n",
      "+-----------------+-----+\n",
      "|         Anguilla|    1|\n",
      "|           Russia|    1|\n",
      "|         Paraguay|    1|\n",
      "|          Senegal|    1|\n",
      "|           Sweden|    1|\n",
      "+-----------------+-----+\n",
      "only showing top 5 rows\n",
      "\n"
     ]
    }
   ],
   "source": [
    "# Contando registros por destino de vôo via DataFrame\n",
    "df_way = flights_data_2015\\\n",
    "    .groupBy(\"DEST_COUNTRY_NAME\")\\\n",
    "    .count()\n",
    "\n",
    "# Mostrando resultados\n",
    "df_way.show(5)"
   ]
  },
  {
   "cell_type": "code",
   "execution_count": 24,
   "id": "2dc96276",
   "metadata": {},
   "outputs": [
    {
     "name": "stdout",
     "output_type": "stream",
     "text": [
      "== Physical Plan ==\n",
      "AdaptiveSparkPlan isFinalPlan=false\n",
      "+- HashAggregate(keys=[DEST_COUNTRY_NAME#16], functions=[count(1)])\n",
      "   +- Exchange hashpartitioning(DEST_COUNTRY_NAME#16, 200), ENSURE_REQUIREMENTS, [id=#468]\n",
      "      +- HashAggregate(keys=[DEST_COUNTRY_NAME#16], functions=[partial_count(1)])\n",
      "         +- FileScan csv [DEST_COUNTRY_NAME#16] Batched: false, DataFilters: [], Format: CSV, Location: InMemoryFileIndex(1 paths)[file:/D:/Users/thiagoPanini/OneDrive/Desenvolvimento/estudos/big data/..., PartitionFilters: [], PushedFilters: [], ReadSchema: struct<DEST_COUNTRY_NAME:string>\n",
      "\n",
      "\n",
      "\n",
      "== Physical Plan ==\n",
      "AdaptiveSparkPlan isFinalPlan=false\n",
      "+- HashAggregate(keys=[DEST_COUNTRY_NAME#16], functions=[count(1)])\n",
      "   +- Exchange hashpartitioning(DEST_COUNTRY_NAME#16, 200), ENSURE_REQUIREMENTS, [id=#481]\n",
      "      +- HashAggregate(keys=[DEST_COUNTRY_NAME#16], functions=[partial_count(1)])\n",
      "         +- FileScan csv [DEST_COUNTRY_NAME#16] Batched: false, DataFilters: [], Format: CSV, Location: InMemoryFileIndex(1 paths)[file:/D:/Users/thiagoPanini/OneDrive/Desenvolvimento/estudos/big data/..., PartitionFilters: [], PushedFilters: [], ReadSchema: struct<DEST_COUNTRY_NAME:string>\n",
      "\n",
      "\n"
     ]
    }
   ],
   "source": [
    "# Plano de execução das queries\n",
    "sql_way.explain()\n",
    "print()\n",
    "df_way.explain()"
   ]
  },
  {
   "cell_type": "markdown",
   "id": "ffdd1f78",
   "metadata": {},
   "source": [
    "Retornando os top 5 países de destino"
   ]
  },
  {
   "cell_type": "code",
   "execution_count": 32,
   "id": "f0820a8b",
   "metadata": {},
   "outputs": [
    {
     "name": "stdout",
     "output_type": "stream",
     "text": [
      "+-----------------+-----------------+\n",
      "|DEST_COUNTRY_NAME|total_destination|\n",
      "+-----------------+-----------------+\n",
      "|    United States|           411352|\n",
      "|           Canada|             8399|\n",
      "|           Mexico|             7140|\n",
      "|   United Kingdom|             2025|\n",
      "|            Japan|             1548|\n",
      "+-----------------+-----------------+\n",
      "\n",
      "None\n"
     ]
    }
   ],
   "source": [
    "# Utilizando Spark SQL\n",
    "sql_top5  = spark.sql(\"\"\"\n",
    "    SELECT\n",
    "        DEST_COUNTRY_NAME,\n",
    "        sum(count) AS total_destination\n",
    "    FROM flights_view\n",
    "    GROUP BY DEST_COUNTRY_NAME\n",
    "    ORDER BY total_destination DESC\n",
    "    LIMIT 5\n",
    "\"\"\")\n",
    "sql_top5.show()"
   ]
  },
  {
   "cell_type": "code",
   "execution_count": 33,
   "id": "66978767",
   "metadata": {},
   "outputs": [
    {
     "name": "stdout",
     "output_type": "stream",
     "text": [
      "+-----------------+-----------------+\n",
      "|DEST_COUNTRY_NAME|total_destination|\n",
      "+-----------------+-----------------+\n",
      "|    United States|           411352|\n",
      "|           Canada|             8399|\n",
      "|           Mexico|             7140|\n",
      "|   United Kingdom|             2025|\n",
      "|            Japan|             1548|\n",
      "+-----------------+-----------------+\n",
      "\n"
     ]
    }
   ],
   "source": [
    "# Utilizando Spark DataFrame\n",
    "from pyspark.sql.functions import desc\n",
    "\n",
    "df_top5 = flights_data_2015\\\n",
    "    .groupBy(\"DEST_COUNTRY_NAME\")\\\n",
    "    .sum(\"count\")\\\n",
    "    .withColumnRenamed(\"sum(count)\", \"total_destination\")\\\n",
    "    .sort(desc(\"total_destination\"))\\\n",
    "    .limit(5)\\\n",
    "    .show()"
   ]
  },
  {
   "cell_type": "code",
   "execution_count": null,
   "id": "44fd0ad9",
   "metadata": {},
   "outputs": [],
   "source": []
  }
 ],
 "metadata": {
  "kernelspec": {
   "display_name": "Python 3 (ipykernel)",
   "language": "python",
   "name": "python3"
  },
  "language_info": {
   "codemirror_mode": {
    "name": "ipython",
    "version": 3
   },
   "file_extension": ".py",
   "mimetype": "text/x-python",
   "name": "python",
   "nbconvert_exporter": "python",
   "pygments_lexer": "ipython3",
   "version": "3.8.10"
  }
 },
 "nbformat": 4,
 "nbformat_minor": 5
}

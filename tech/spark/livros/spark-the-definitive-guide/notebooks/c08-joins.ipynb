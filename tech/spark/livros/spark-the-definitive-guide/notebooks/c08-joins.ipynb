{
 "cells": [
  {
   "cell_type": "markdown",
   "id": "3f6e567a",
   "metadata": {},
   "source": [
    "**_Objetivo:_** Neste notebook, serão consolidados códigos para explorações práticas envolvendo o contéudo presente no capítulo 8 do livro Spark - The Definitive Guide: Joins. No cenário proposto, exemplos de união lateral de dados serão explorados de modo a propor transformações envolvendo dois ou mais datasets."
   ]
  },
  {
   "cell_type": "code",
   "execution_count": 1,
   "id": "94c51d56",
   "metadata": {},
   "outputs": [
    {
     "data": {
      "text/html": [
       "\n",
       "            <div>\n",
       "                <p><b>SparkSession - in-memory</b></p>\n",
       "                \n",
       "        <div>\n",
       "            <p><b>SparkContext</b></p>\n",
       "\n",
       "            <p><a href=\"http://DESKTOP-CJKTBO0:4040\">Spark UI</a></p>\n",
       "\n",
       "            <dl>\n",
       "              <dt>Version</dt>\n",
       "                <dd><code>v3.2.1</code></dd>\n",
       "              <dt>Master</dt>\n",
       "                <dd><code>local[*]</code></dd>\n",
       "              <dt>AppName</dt>\n",
       "                <dd><code>pyspark-shell</code></dd>\n",
       "            </dl>\n",
       "        </div>\n",
       "        \n",
       "            </div>\n",
       "        "
      ],
      "text/plain": [
       "<pyspark.sql.session.SparkSession at 0x28054b7cc40>"
      ]
     },
     "execution_count": 1,
     "metadata": {},
     "output_type": "execute_result"
    }
   ],
   "source": [
    "# Importando bibliotecas\n",
    "from pyspark.sql import SparkSession\n",
    "import os\n",
    "\n",
    "# Definindo variáveis de diretório\n",
    "DATA_PATH = '../book-github-resources/'\n",
    "\n",
    "# Criando sessão\n",
    "spark = SparkSession.builder.getOrCreate()\n",
    "spark"
   ]
  },
  {
   "cell_type": "markdown",
   "id": "d8c2eb8d",
   "metadata": {},
   "source": [
    "# Preparando Bases"
   ]
  },
  {
   "cell_type": "code",
   "execution_count": 2,
   "id": "2faa1f60",
   "metadata": {},
   "outputs": [],
   "source": [
    "# Criando DataFrame de pessoas\n",
    "person = spark.createDataFrame([\n",
    "    (0, \"Bill Chambers\", 0, [100]),\n",
    "    (1, \"Matei Zaharia\", 1, [500, 250, 100]),\n",
    "    (2, \"Michael Armbrust\", 1, [250, 100])\n",
    "]).toDF(\"id\", \"name\", \"grad_program\", \"spark_status\")\n",
    "\n",
    "# Criando DataFrame de programas de grauação\n",
    "gradProgram = spark.createDataFrame([\n",
    "    (0, \"Masters\", \"School of Information\", \"UC Berkeley\"),\n",
    "    (2, \"Masters\", \"EECS\", \"UC Berkeley\"),\n",
    "    (1, \"Ph.D\", \"EECS\", \"UC Berkeley\")\n",
    "]).toDF(\"id\", \"degree\", \"department\", \"school\")\n",
    "\n",
    "# Criando DataFrame de status Spark\n",
    "sparkStatus = spark.createDataFrame([\n",
    "    (500, \"Vice President\"),\n",
    "    (250, \"PMC Member\"),\n",
    "    (100, \"Contributor\")\n",
    "]).toDF(\"id\", \"status\")\n",
    "\n",
    "# Registrando views\n",
    "person.createOrReplaceTempView(\"person\")\n",
    "gradProgram.createOrReplaceTempView(\"grad_program\")\n",
    "sparkStatus.createOrReplaceTempView(\"spark_status\")"
   ]
  },
  {
   "cell_type": "code",
   "execution_count": 3,
   "id": "8b165cd8",
   "metadata": {},
   "outputs": [
    {
     "name": "stdout",
     "output_type": "stream",
     "text": [
      "+---+----------------+------------+---------------+\n",
      "| id|            name|grad_program|   spark_status|\n",
      "+---+----------------+------------+---------------+\n",
      "|  0|   Bill Chambers|           0|          [100]|\n",
      "|  1|   Matei Zaharia|           1|[500, 250, 100]|\n",
      "|  2|Michael Armbrust|           1|     [250, 100]|\n",
      "+---+----------------+------------+---------------+\n",
      "\n",
      "+---+-------+--------------------+-----------+\n",
      "| id| degree|          department|     school|\n",
      "+---+-------+--------------------+-----------+\n",
      "|  0|Masters|School of Informa...|UC Berkeley|\n",
      "|  2|Masters|                EECS|UC Berkeley|\n",
      "|  1|   Ph.D|                EECS|UC Berkeley|\n",
      "+---+-------+--------------------+-----------+\n",
      "\n",
      "+---+--------------+\n",
      "| id|        status|\n",
      "+---+--------------+\n",
      "|500|Vice President|\n",
      "|250|    PMC Member|\n",
      "|100|   Contributor|\n",
      "+---+--------------+\n",
      "\n"
     ]
    }
   ],
   "source": [
    "# Visualisando bases\n",
    "person.show()\n",
    "gradProgram.show()\n",
    "sparkStatus.show()"
   ]
  },
  {
   "cell_type": "code",
   "execution_count": 4,
   "id": "c6c5ebfd",
   "metadata": {},
   "outputs": [
    {
     "name": "stdout",
     "output_type": "stream",
     "text": [
      "+---+----------------+------------+---------------+---+-------+--------------------+-----------+\n",
      "| id|            name|grad_program|   spark_status| id| degree|          department|     school|\n",
      "+---+----------------+------------+---------------+---+-------+--------------------+-----------+\n",
      "|  0|   Bill Chambers|           0|          [100]|  0|Masters|School of Informa...|UC Berkeley|\n",
      "|  1|   Matei Zaharia|           1|[500, 250, 100]|  1|   Ph.D|                EECS|UC Berkeley|\n",
      "|  2|Michael Armbrust|           1|     [250, 100]|  1|   Ph.D|                EECS|UC Berkeley|\n",
      "+---+----------------+------------+---------------+---+-------+--------------------+-----------+\n",
      "\n"
     ]
    }
   ],
   "source": [
    "# Criando expressão join\n",
    "join_expr = (person['grad_program'] == gradProgram['id'])\n",
    "\n",
    "# Aplicando join\n",
    "person.join(gradProgram, join_expr).show()"
   ]
  },
  {
   "cell_type": "code",
   "execution_count": 5,
   "id": "a05d217b",
   "metadata": {},
   "outputs": [
    {
     "name": "stdout",
     "output_type": "stream",
     "text": [
      "+---+----------------+------------+---------------+---+-------+--------------------+-----------+\n",
      "| id|            name|grad_program|   spark_status| id| degree|          department|     school|\n",
      "+---+----------------+------------+---------------+---+-------+--------------------+-----------+\n",
      "|  0|   Bill Chambers|           0|          [100]|  0|Masters|School of Informa...|UC Berkeley|\n",
      "|  1|   Matei Zaharia|           1|[500, 250, 100]|  1|   Ph.D|                EECS|UC Berkeley|\n",
      "|  2|Michael Armbrust|           1|     [250, 100]|  1|   Ph.D|                EECS|UC Berkeley|\n",
      "+---+----------------+------------+---------------+---+-------+--------------------+-----------+\n",
      "\n"
     ]
    }
   ],
   "source": [
    "# Aplicando joins com argumentos explícitos\n",
    "person.join(other=gradProgram, on=join_expr, how=\"inner\").show()"
   ]
  },
  {
   "cell_type": "code",
   "execution_count": 6,
   "id": "554599f9",
   "metadata": {},
   "outputs": [
    {
     "name": "stdout",
     "output_type": "stream",
     "text": [
      "+---+----------------+------------+---------------+---+-------+--------------------+-----------+\n",
      "| id|            name|grad_program|   spark_status| id| degree|          department|     school|\n",
      "+---+----------------+------------+---------------+---+-------+--------------------+-----------+\n",
      "|  0|   Bill Chambers|           0|          [100]|  0|Masters|School of Informa...|UC Berkeley|\n",
      "|  1|   Matei Zaharia|           1|[500, 250, 100]|  1|   Ph.D|                EECS|UC Berkeley|\n",
      "|  2|Michael Armbrust|           1|     [250, 100]|  1|   Ph.D|                EECS|UC Berkeley|\n",
      "+---+----------------+------------+---------------+---+-------+--------------------+-----------+\n",
      "\n"
     ]
    }
   ],
   "source": [
    "# Em SparkSQL\n",
    "spark.sql(\"\"\"\n",
    "    SELECT\n",
    "        *\n",
    "    FROM person\n",
    "    INNER JOIN grad_program\n",
    "        ON person.grad_program = grad_program.id\n",
    "\"\"\").show()"
   ]
  },
  {
   "cell_type": "markdown",
   "id": "b771ed74",
   "metadata": {},
   "source": [
    "# Left Join"
   ]
  },
  {
   "cell_type": "code",
   "execution_count": 7,
   "id": "5cebc925",
   "metadata": {},
   "outputs": [
    {
     "name": "stdout",
     "output_type": "stream",
     "text": [
      "+---+-------+--------------------+-----------+----+----------------+------------+---------------+\n",
      "| id| degree|          department|     school|  id|            name|grad_program|   spark_status|\n",
      "+---+-------+--------------------+-----------+----+----------------+------------+---------------+\n",
      "|  0|Masters|School of Informa...|UC Berkeley|   0|   Bill Chambers|           0|          [100]|\n",
      "|  1|   Ph.D|                EECS|UC Berkeley|   1|   Matei Zaharia|           1|[500, 250, 100]|\n",
      "|  1|   Ph.D|                EECS|UC Berkeley|   2|Michael Armbrust|           1|     [250, 100]|\n",
      "|  2|Masters|                EECS|UC Berkeley|null|            null|        null|           null|\n",
      "+---+-------+--------------------+-----------+----+----------------+------------+---------------+\n",
      "\n"
     ]
    }
   ],
   "source": [
    "# Aplicando join\n",
    "gradProgram.join(person, join_expr, how='left_outer').show()"
   ]
  },
  {
   "cell_type": "markdown",
   "id": "a4793d42",
   "metadata": {},
   "source": [
    "# Right Join"
   ]
  },
  {
   "cell_type": "code",
   "execution_count": 8,
   "id": "5d58cef2",
   "metadata": {},
   "outputs": [
    {
     "name": "stdout",
     "output_type": "stream",
     "text": [
      "+----+----------------+------------+---------------+---+-------+--------------------+-----------+\n",
      "|  id|            name|grad_program|   spark_status| id| degree|          department|     school|\n",
      "+----+----------------+------------+---------------+---+-------+--------------------+-----------+\n",
      "|   0|   Bill Chambers|           0|          [100]|  0|Masters|School of Informa...|UC Berkeley|\n",
      "|   1|   Matei Zaharia|           1|[500, 250, 100]|  1|   Ph.D|                EECS|UC Berkeley|\n",
      "|   2|Michael Armbrust|           1|     [250, 100]|  1|   Ph.D|                EECS|UC Berkeley|\n",
      "|null|            null|        null|           null|  2|Masters|                EECS|UC Berkeley|\n",
      "+----+----------------+------------+---------------+---+-------+--------------------+-----------+\n",
      "\n"
     ]
    }
   ],
   "source": [
    "# Aplicando join\n",
    "person.join(gradProgram, join_expr, how=\"right_outer\").show()"
   ]
  },
  {
   "cell_type": "markdown",
   "id": "c1cb3eaf",
   "metadata": {},
   "source": [
    "# Left Semi e Left Anti"
   ]
  },
  {
   "cell_type": "code",
   "execution_count": 9,
   "id": "6e57051a",
   "metadata": {},
   "outputs": [
    {
     "name": "stdout",
     "output_type": "stream",
     "text": [
      "+---+-------+--------------------+-----------+\n",
      "| id| degree|          department|     school|\n",
      "+---+-------+--------------------+-----------+\n",
      "|  0|Masters|School of Informa...|UC Berkeley|\n",
      "|  1|   Ph.D|                EECS|UC Berkeley|\n",
      "+---+-------+--------------------+-----------+\n",
      "\n",
      "+---+-------+----------+-----------+\n",
      "| id| degree|department|     school|\n",
      "+---+-------+----------+-----------+\n",
      "|  2|Masters|      EECS|UC Berkeley|\n",
      "+---+-------+----------+-----------+\n",
      "\n"
     ]
    }
   ],
   "source": [
    "# Aplicando left semi join\n",
    "gradProgram.join(person, join_expr, how=\"left_semi\").show()\n",
    "\n",
    "# Aplicando left anti join\n",
    "gradProgram.join(person, join_expr, how=\"left_anti\").show()"
   ]
  },
  {
   "cell_type": "markdown",
   "id": "7507d6d3",
   "metadata": {},
   "source": [
    "# Join em Colunas Complexas"
   ]
  },
  {
   "cell_type": "code",
   "execution_count": 23,
   "id": "3be5d13c",
   "metadata": {},
   "outputs": [],
   "source": [
    "# Importando função\n",
    "from pyspark.sql.functions import split\n",
    "\n",
    "# Definindo diretório de base alternativa\n",
    "ALT_PATH = '../book-github-resources/Spark-The-Definitive-Guide-master/data/retail-data/by-day/2010-12-01.csv'\n",
    "\n",
    "# Lendo base de dados\n",
    "df = spark.read.format(\"csv\")\\\n",
    "    .option(\"inferSchema\", \"true\")\\\n",
    "    .option(\"header\", \"true\")\\\n",
    "    .load(ALT_PATH)\n",
    "\n",
    "# Criando DataFrame para uso com arrays\n",
    "df_array = df.select(split(\"Description\", \" \").alias(\"split_desc\"))"
   ]
  },
  {
   "cell_type": "code",
   "execution_count": 34,
   "id": "264c8430",
   "metadata": {},
   "outputs": [
    {
     "name": "stdout",
     "output_type": "stream",
     "text": [
      "+------------------------------------------+----------+\n",
      "|split_desc                                |flag_white|\n",
      "+------------------------------------------+----------+\n",
      "|[WHITE, HANGING, HEART, T-LIGHT, HOLDER]  |true      |\n",
      "|[WHITE, METAL, LANTERN]                   |true      |\n",
      "|[CREAM, CUPID, HEARTS, COAT, HANGER]      |false     |\n",
      "|[KNITTED, UNION, FLAG, HOT, WATER, BOTTLE]|false     |\n",
      "|[RED, WOOLLY, HOTTIE, WHITE, HEART.]      |true      |\n",
      "+------------------------------------------+----------+\n",
      "only showing top 5 rows\n",
      "\n"
     ]
    }
   ],
   "source": [
    "# Importando função\n",
    "from pyspark.sql.functions import array_contains, col\n",
    "\n",
    "df_array.select(\n",
    "    \"split_desc\",\n",
    "    array_contains(\"split_desc\", \"WHITE\").alias(\"flag_white\")\n",
    ").show(5, truncate=False)"
   ]
  },
  {
   "cell_type": "code",
   "execution_count": 32,
   "id": "7aa4d3d9",
   "metadata": {},
   "outputs": [
    {
     "name": "stdout",
     "output_type": "stream",
     "text": [
      "+---+----------------+------------+---------------+---+--------------+\n",
      "| id|            name|grad_program|   spark_status| id|        status|\n",
      "+---+----------------+------------+---------------+---+--------------+\n",
      "|  0|   Bill Chambers|           0|          [100]|100|   Contributor|\n",
      "|  1|   Matei Zaharia|           1|[500, 250, 100]|500|Vice President|\n",
      "|  1|   Matei Zaharia|           1|[500, 250, 100]|250|    PMC Member|\n",
      "|  1|   Matei Zaharia|           1|[500, 250, 100]|100|   Contributor|\n",
      "|  2|Michael Armbrust|           1|     [250, 100]|250|    PMC Member|\n",
      "|  2|Michael Armbrust|           1|     [250, 100]|100|   Contributor|\n",
      "+---+----------------+------------+---------------+---+--------------+\n",
      "\n"
     ]
    }
   ],
   "source": [
    "# Importando funções\n",
    "person.join(\n",
    "    other=sparkStatus,\n",
    "    on=array_contains(person[\"spark_status\"], sparkStatus[\"id\"])\n",
    ").show()"
   ]
  },
  {
   "cell_type": "code",
   "execution_count": 36,
   "id": "3d477e42",
   "metadata": {},
   "outputs": [
    {
     "name": "stdout",
     "output_type": "stream",
     "text": [
      "+---------+----------------+------------+---------------+---+--------------+\n",
      "|person_id|            name|grad_program|   spark_status| id|        status|\n",
      "+---------+----------------+------------+---------------+---+--------------+\n",
      "|        0|   Bill Chambers|           0|          [100]|100|   Contributor|\n",
      "|        1|   Matei Zaharia|           1|[500, 250, 100]|500|Vice President|\n",
      "|        1|   Matei Zaharia|           1|[500, 250, 100]|250|    PMC Member|\n",
      "|        1|   Matei Zaharia|           1|[500, 250, 100]|100|   Contributor|\n",
      "|        2|Michael Armbrust|           1|     [250, 100]|250|    PMC Member|\n",
      "|        2|Michael Armbrust|           1|     [250, 100]|100|   Contributor|\n",
      "+---------+----------------+------------+---------------+---+--------------+\n",
      "\n"
     ]
    }
   ],
   "source": [
    "# Renomeando coluna antes de aplicar join\n",
    "person.withColumnRenamed(\"id\", \"person_id\")\\\n",
    "    .join(sparkStatus, on=expr(\"array_contains(spark_status, id)\"))\\\n",
    "    .show()"
   ]
  },
  {
   "cell_type": "code",
   "execution_count": 38,
   "id": "1bcf077e",
   "metadata": {},
   "outputs": [
    {
     "name": "stdout",
     "output_type": "stream",
     "text": [
      "+---+----------------+------------+---------------+---+--------------+\n",
      "| id|            name|grad_program|   spark_status| id|        status|\n",
      "+---+----------------+------------+---------------+---+--------------+\n",
      "|  0|   Bill Chambers|           0|          [100]|100|   Contributor|\n",
      "|  1|   Matei Zaharia|           1|[500, 250, 100]|500|Vice President|\n",
      "|  1|   Matei Zaharia|           1|[500, 250, 100]|250|    PMC Member|\n",
      "|  1|   Matei Zaharia|           1|[500, 250, 100]|100|   Contributor|\n",
      "|  2|Michael Armbrust|           1|     [250, 100]|250|    PMC Member|\n",
      "|  2|Michael Armbrust|           1|     [250, 100]|100|   Contributor|\n",
      "+---+----------------+------------+---------------+---+--------------+\n",
      "\n"
     ]
    }
   ],
   "source": [
    "# Realizando consulta análoga em SparkSQL\n",
    "spark.sql(\"\"\"\n",
    "    SELECT * FROM person AS p\n",
    "    INNER JOIN spark_status AS s\n",
    "        ON array_contains(p.spark_status, s.id)\n",
    "\"\"\").show()"
   ]
  },
  {
   "cell_type": "code",
   "execution_count": 40,
   "id": "c6eec83d",
   "metadata": {},
   "outputs": [
    {
     "name": "stdout",
     "output_type": "stream",
     "text": [
      "== Physical Plan ==\n",
      "AdaptiveSparkPlan isFinalPlan=false\n",
      "+- Project [_1#16L AS id#24L, _2#17 AS degree#25, _3#18 AS department#26, _4#19 AS school#27]\n",
      "   +- SortMergeJoin [_1#16L], [grad_program#10L], LeftSemi\n",
      "      :- Sort [_1#16L ASC NULLS FIRST], false, 0\n",
      "      :  +- Exchange hashpartitioning(_1#16L, 200), ENSURE_REQUIREMENTS, [id=#1501]\n",
      "      :     +- Filter isnotnull(_1#16L)\n",
      "      :        +- Scan ExistingRDD[_1#16L,_2#17,_3#18,_4#19]\n",
      "      +- Sort [grad_program#10L ASC NULLS FIRST], false, 0\n",
      "         +- Exchange hashpartitioning(grad_program#10L, 200), ENSURE_REQUIREMENTS, [id=#1502]\n",
      "            +- Project [_3#2L AS grad_program#10L]\n",
      "               +- Filter isnotnull(_3#2L)\n",
      "                  +- Scan ExistingRDD[_1#0L,_2#1,_3#2L,_4#3]\n",
      "\n",
      "\n"
     ]
    }
   ],
   "source": [
    "gradProgram.join(person, join_expr, how=\"left_semi\").explain()"
   ]
  },
  {
   "cell_type": "code",
   "execution_count": null,
   "id": "18b32298",
   "metadata": {},
   "outputs": [],
   "source": []
  }
 ],
 "metadata": {
  "kernelspec": {
   "display_name": "Python 3 (ipykernel)",
   "language": "python",
   "name": "python3"
  },
  "language_info": {
   "codemirror_mode": {
    "name": "ipython",
    "version": 3
   },
   "file_extension": ".py",
   "mimetype": "text/x-python",
   "name": "python",
   "nbconvert_exporter": "python",
   "pygments_lexer": "ipython3",
   "version": "3.8.10"
  }
 },
 "nbformat": 4,
 "nbformat_minor": 5
}

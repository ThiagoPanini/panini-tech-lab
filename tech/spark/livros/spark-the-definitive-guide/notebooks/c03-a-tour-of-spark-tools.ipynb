{
 "cells": [
  {
   "cell_type": "markdown",
   "id": "80684255",
   "metadata": {},
   "source": [
    "**_Objetivo deste notebook:_** Os códigos aqui alocados referem-se a explorações em Spark presentes no terceiro capítulo do livro _Spark: A Definitive Guide_ - A Tour of Spark Tools. No contexto, algumas das principais possibilidades de uso do Spark são demonstradas, nos formatos teórico e prático, através de ferramentas, bibliotecas, módulos e aplicações do framework."
   ]
  },
  {
   "cell_type": "code",
   "execution_count": 1,
   "id": "4014d697",
   "metadata": {},
   "outputs": [
    {
     "data": {
      "text/html": [
       "\n",
       "            <div>\n",
       "                <p><b>SparkSession - in-memory</b></p>\n",
       "                \n",
       "        <div>\n",
       "            <p><b>SparkContext</b></p>\n",
       "\n",
       "            <p><a href=\"http://DESKTOP-CJKTBO0:4040\">Spark UI</a></p>\n",
       "\n",
       "            <dl>\n",
       "              <dt>Version</dt>\n",
       "                <dd><code>v3.2.1</code></dd>\n",
       "              <dt>Master</dt>\n",
       "                <dd><code>local[*]</code></dd>\n",
       "              <dt>AppName</dt>\n",
       "                <dd><code>pyspark-shell</code></dd>\n",
       "            </dl>\n",
       "        </div>\n",
       "        \n",
       "            </div>\n",
       "        "
      ],
      "text/plain": [
       "<pyspark.sql.session.SparkSession at 0x12ac8db8e80>"
      ]
     },
     "execution_count": 1,
     "metadata": {},
     "output_type": "execute_result"
    }
   ],
   "source": [
    "# Importando bibliotecas\n",
    "from pyspark.sql import SparkSession\n",
    "import os\n",
    "\n",
    "# Definindo variáveis de diretório\n",
    "GITHUB_PATH = r'D:\\Users\\thiagoPanini\\OneDrive\\Desenvolvimento\\estudos\\big data\\spark\\livros\\spark-the-definitive-guide\\book-github-resources\\Spark-The-Definitive-Guide-master\\data'\n",
    "RETAIL_DATA = r'retail-data\\by-day\\2011-12-0*.csv'\n",
    "DATA_PATH = os.path.join(GITHUB_PATH, RETAIL_DATA)\n",
    "\n",
    "# Inicializando sessão spark\n",
    "spark = SparkSession.builder.getOrCreate()\n",
    "spark"
   ]
  },
  {
   "cell_type": "markdown",
   "id": "bf8180de",
   "metadata": {},
   "source": [
    "# Structured Streaming"
   ]
  },
  {
   "cell_type": "markdown",
   "id": "2eb6657d",
   "metadata": {},
   "source": [
    "Nesta seção, será proposta a construção de uma aplicação envolvendo Streaming de dados com Spark. Para tal, dados contidos no repositório do Github baixado do livro serão utilizados, inicialmente, em um formato estático, permitindo assim construir e testar as mais variadas transformações. Em um segundo momento, será introduzida uma abordagem streaming, pontuando que as modificações a serem feitas em todo o processo construído em batch são mínimas."
   ]
  },
  {
   "cell_type": "code",
   "execution_count": null,
   "id": "77ce2e5a",
   "metadata": {},
   "outputs": [],
   "source": [
    "# Lendo dados\n",
    "df_static = spark.read.format('csv')\\\n",
    "    .option('header', 'true')\\\n",
    "    .option('inferSchema', 'true')\\\n",
    "    .load(DATA_PATH)"
   ]
  },
  {
   "cell_type": "code",
   "execution_count": null,
   "id": "da3ecd3a",
   "metadata": {},
   "outputs": [],
   "source": [
    "# Aplicando ação\n",
    "df_static.show(5)"
   ]
  },
  {
   "cell_type": "code",
   "execution_count": null,
   "id": "44fd0ad9",
   "metadata": {},
   "outputs": [],
   "source": [
    "# Importando bibliotecas\n",
    "from pyspark.sql.functions import window, column, desc, col\n",
    "\n",
    "# Aplicando transformações\n",
    "df_static.selectExpr(\n",
    "    'CustomerId',\n",
    "    '(UnitPrice * Quantity) as total_cost',\n",
    "    'InvoiceDate'\n",
    ")\\\n",
    "    .groupBy(col('CustomerId'), window(col('InvoiceDate'), '1 day'))\\\n",
    "    .sum('total_cost')\\\n",
    "    .show(5)"
   ]
  }
 ],
 "metadata": {
  "kernelspec": {
   "display_name": "Python 3 (ipykernel)",
   "language": "python",
   "name": "python3"
  },
  "language_info": {
   "codemirror_mode": {
    "name": "ipython",
    "version": 3
   },
   "file_extension": ".py",
   "mimetype": "text/x-python",
   "name": "python",
   "nbconvert_exporter": "python",
   "pygments_lexer": "ipython3",
   "version": "3.8.10"
  }
 },
 "nbformat": 4,
 "nbformat_minor": 5
}

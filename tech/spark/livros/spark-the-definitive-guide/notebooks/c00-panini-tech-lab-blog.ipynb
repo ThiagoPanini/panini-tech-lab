{
 "cells": [
  {
   "cell_type": "code",
   "execution_count": 2,
   "metadata": {},
   "outputs": [
    {
     "name": "stdout",
     "output_type": "stream",
     "text": [
      "+------+\n",
      "|numero|\n",
      "+------+\n",
      "|     0|\n",
      "|     1|\n",
      "|     2|\n",
      "|     3|\n",
      "|     4|\n",
      "+------+\n",
      "only showing top 5 rows\n",
      "\n"
     ]
    }
   ],
   "source": [
    "# Importando o módulo de sessão\n",
    "from pyspark.sql import SparkSession\n",
    "\n",
    "# Inicializando objeto de sessão\n",
    "spark = (SparkSession\n",
    "    .builder\n",
    "    .appName(\"art03-dataframes\")\n",
    "    .getOrCreate())\n",
    "\n",
    "# Criando um DataFrame básico\n",
    "df_range = spark.range(1000).toDF(\"numero\")\n",
    "df_range.show(5)"
   ]
  },
  {
   "cell_type": "code",
   "execution_count": 7,
   "metadata": {},
   "outputs": [
    {
     "data": {
      "text/plain": [
       "pyspark.sql.dataframe.DataFrame"
      ]
     },
     "execution_count": 7,
     "metadata": {},
     "output_type": "execute_result"
    }
   ],
   "source": [
    "# Visualizando tipo primitivo do objeto\n",
    "type(df_range)"
   ]
  },
  {
   "cell_type": "code",
   "execution_count": 9,
   "metadata": {},
   "outputs": [
    {
     "name": "stdout",
     "output_type": "stream",
     "text": [
      "O DataFrame criado possui 4 partições\n"
     ]
    }
   ],
   "source": [
    "# Verificando quantidade de partições do DataFrame\n",
    "num_partitions = df_range.rdd.getNumPartitions()\n",
    "print(f'O DataFrame criado possui {num_partitions} partições')"
   ]
  },
  {
   "cell_type": "code",
   "execution_count": null,
   "metadata": {},
   "outputs": [],
   "source": []
  }
 ],
 "metadata": {
  "kernelspec": {
   "display_name": "Python 3.8.10 ('pyspark-venv')",
   "language": "python",
   "name": "python3"
  },
  "language_info": {
   "codemirror_mode": {
    "name": "ipython",
    "version": 3
   },
   "file_extension": ".py",
   "mimetype": "text/x-python",
   "name": "python",
   "nbconvert_exporter": "python",
   "pygments_lexer": "ipython3",
   "version": "3.8.10"
  },
  "orig_nbformat": 4,
  "vscode": {
   "interpreter": {
    "hash": "ca62b13d571fed8f86e7643e8b936bf7110cd589ea2bbb5d8933a4a219eedc3e"
   }
  }
 },
 "nbformat": 4,
 "nbformat_minor": 2
}

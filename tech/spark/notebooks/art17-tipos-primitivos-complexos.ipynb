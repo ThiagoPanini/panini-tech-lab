{
 "cells": [
  {
   "cell_type": "code",
   "execution_count": 1,
   "metadata": {},
   "outputs": [
    {
     "name": "stdout",
     "output_type": "stream",
     "text": [
      "22/09/01 09:38:10 WARN Utils: Your hostname, panini-ubuntu resolves to a loopback address: 127.0.1.1, but we couldn't find any external IP address!\n",
      "22/09/01 09:38:10 WARN Utils: Set SPARK_LOCAL_IP if you need to bind to another address\n"
     ]
    },
    {
     "name": "stderr",
     "output_type": "stream",
     "text": [
      "Setting default log level to \"WARN\".\n",
      "To adjust logging level use sc.setLogLevel(newLevel). For SparkR, use setLogLevel(newLevel).\n"
     ]
    },
    {
     "name": "stdout",
     "output_type": "stream",
     "text": [
      "22/09/01 09:38:11 WARN NativeCodeLoader: Unable to load native-hadoop library for your platform... using builtin-java classes where applicable\n",
      "22/09/01 09:38:12 WARN MacAddressUtil: Failed to find a usable hardware address from the network interfaces; using random bytes: e8:3b:9f:5f:1f:63:47:3a\n"
     ]
    },
    {
     "data": {
      "text/html": [
       "\n",
       "            <div>\n",
       "                <p><b>SparkSession - in-memory</b></p>\n",
       "                \n",
       "        <div>\n",
       "            <p><b>SparkContext</b></p>\n",
       "\n",
       "            <p><a href=\"http://panini-ubuntu:4040\">Spark UI</a></p>\n",
       "\n",
       "            <dl>\n",
       "              <dt>Version</dt>\n",
       "                <dd><code>v3.3.0</code></dd>\n",
       "              <dt>Master</dt>\n",
       "                <dd><code>local[1]</code></dd>\n",
       "              <dt>AppName</dt>\n",
       "                <dd><code>tipos-primitivos-complexos</code></dd>\n",
       "            </dl>\n",
       "        </div>\n",
       "        \n",
       "            </div>\n",
       "        "
      ],
      "text/plain": [
       "<pyspark.sql.session.SparkSession at 0x7fa11f6bee90>"
      ]
     },
     "execution_count": 1,
     "metadata": {},
     "output_type": "execute_result"
    }
   ],
   "source": [
    "# Importando bibliotecas\n",
    "from pyspark.sql import SparkSession\n",
    "\n",
    "# Criando objeto de sessão\n",
    "spark = SparkSession\\\n",
    "    .builder\\\n",
    "    .appName(\"tipos-primitivos-complexos\")\\\n",
    "    .master(\"local[1]\")\\\n",
    "    .getOrCreate()\n",
    "\n",
    "spark"
   ]
  },
  {
   "cell_type": "code",
   "execution_count": 8,
   "metadata": {},
   "outputs": [
    {
     "name": "stdout",
     "output_type": "stream",
     "text": [
      "root\n",
      " |-- time: string (nullable = false)\n",
      " |-- qtd_titulos_br: integer (nullable = true)\n",
      " |-- anos_titulos_br: array (nullable = true)\n",
      " |    |-- element: integer (containsNull = true)\n",
      " |-- estadio: map (nullable = true)\n",
      " |    |-- key: string\n",
      " |    |-- value: string (valueContainsNull = true)\n",
      "\n",
      "+-----------+--------------+--------------------+--------------------+\n",
      "|       time|qtd_titulos_br|     anos_titulos_br|             estadio|\n",
      "+-----------+--------------+--------------------+--------------------+\n",
      "|Corinthians|             7|[1990, 1998, 1999...|{linha_metro -> V...|\n",
      "|  Palmeiras|            10|[1960, 1967, 1967...|{linha_metro -> V...|\n",
      "|  São Paulo|             6|[1977, 1986, 1991...|{linha_metro -> A...|\n",
      "|     Santos|             8|[1961, 1962, 1963...|{nome -> Vila Bel...|\n",
      "+-----------+--------------+--------------------+--------------------+\n",
      "\n"
     ]
    }
   ],
   "source": [
    "# Importando tipos primitivos\n",
    "from pyspark.sql.types import StructType, StructField,\\\n",
    "    IntegerType, StringType, MapType, ArrayType\n",
    "\n",
    "# Definindo schema\n",
    "schema = StructType([\n",
    "    StructField(\"time\", StringType(), nullable=False),\n",
    "    StructField(\"qtd_titulos_br\", IntegerType(), nullable=True),\n",
    "    StructField(\"anos_titulos_br\", ArrayType(IntegerType()), nullable=True),\n",
    "    StructField(\"estadio\", MapType(StringType(), StringType()), nullable=True)\n",
    "])\n",
    "\n",
    "# Criando dados manualmente (python)\n",
    "data_times_br = [\n",
    "    [\"Corinthians\", 7,  [1990, 1998, 1999, 2005, 2011, 2015, 2017], {\"nome\": \"Neo Quimica Arena\", \"regiao\": \"Itaquera\", \"linha_metro\": \"Vermelha\"}],\n",
    "    [\"Palmeiras\", 10, [1960, 1967, 1967, 1969, 1972, 1973, 1993, 1994, 2016, 2018], {\"nome\": \"Allianz Park\", \"regiao\": \"Barra Funda\", \"linha_metro\": \"Vermelha\"}],\n",
    "    [\"São Paulo\", 6, [1977, 1986, 1991, 2006, 2007, 2008], {\"nome\": \"Morumbi\", \"regiao\": \"Morumbi\", \"linha_metro\": \"Amarela\"}],\n",
    "    [\"Santos\", 8, [1961, 1962, 1963, 1964, 1965, 1968, 2002, 2004], {\"nome\": \"Vila Belmiro\", \"regiao\": \"Baixada Santista\"}]\n",
    "]\n",
    "\n",
    "# Transformando dados em DataFrame\n",
    "df_times_br = spark.createDataFrame(data_times_br, schema)\n",
    "\n",
    "# Visualizando dados\n",
    "df_times_br.printSchema()\n",
    "df_times_br.show(truncate=True)"
   ]
  },
  {
   "cell_type": "markdown",
   "metadata": {},
   "source": [
    "## Operações em tipos primitivos complexos"
   ]
  },
  {
   "cell_type": "markdown",
   "metadata": {},
   "source": [
    "### Selecionando Tipos Complexos"
   ]
  },
  {
   "cell_type": "code",
   "execution_count": 9,
   "metadata": {},
   "outputs": [
    {
     "name": "stdout",
     "output_type": "stream",
     "text": [
      "+-----------+-------------------+------------------+\n",
      "|       time|ano_primeiro_titulo|ano_segundo_titulo|\n",
      "+-----------+-------------------+------------------+\n",
      "|Corinthians|               1990|              1998|\n",
      "|  Palmeiras|               1960|              1967|\n",
      "|  São Paulo|               1977|              1986|\n",
      "|     Santos|               1961|              1962|\n",
      "+-----------+-------------------+------------------+\n",
      "\n"
     ]
    }
   ],
   "source": [
    "# Importando funções\n",
    "from pyspark.sql.functions import col, expr\n",
    "\n",
    "# Visualizando primeiro e segundo títulos brasileiro\n",
    "df_titulos_br = df_times_br.select(\n",
    "    expr(\"time\"),\n",
    "    col(\"anos_titulos_br\")[0].alias(\"ano_primeiro_titulo\"),\n",
    "    expr(\"anos_titulos_br[1] AS ano_segundo_titulo\")\n",
    ")\n",
    "\n",
    "# Visualizando dados\n",
    "df_titulos_br.show()"
   ]
  },
  {
   "cell_type": "code",
   "execution_count": 10,
   "metadata": {},
   "outputs": [
    {
     "name": "stdout",
     "output_type": "stream",
     "text": [
      "+-----------+-----------------+----------------+------------------+\n",
      "|       time|    estadio[nome]|  regiao_estadio|metro_prox_estadio|\n",
      "+-----------+-----------------+----------------+------------------+\n",
      "|Corinthians|Neo Quimica Arena|        Itaquera|          Vermelha|\n",
      "|  Palmeiras|     Allianz Park|     Barra Funda|          Vermelha|\n",
      "|  São Paulo|          Morumbi|         Morumbi|           Amarela|\n",
      "|     Santos|     Vila Belmiro|Baixada Santista|              null|\n",
      "+-----------+-----------------+----------------+------------------+\n",
      "\n"
     ]
    }
   ],
   "source": [
    "# Visualizando detalhes dos estádios dos times\n",
    "df_estadios = df_times_br.select(\n",
    "    col(\"time\"),\n",
    "    col(\"estadio\").nome,\n",
    "    col(\"estadio\").regiao.alias(\"regiao_estadio\"),\n",
    "    expr(\"estadio.linha_metro AS metro_prox_estadio\")\n",
    ")\n",
    "\n",
    "# Visualizando dados\n",
    "df_estadios.show()"
   ]
  },
  {
   "cell_type": "markdown",
   "metadata": {},
   "source": [
    "___"
   ]
  },
  {
   "cell_type": "markdown",
   "metadata": {},
   "source": [
    "### element_at"
   ]
  },
  {
   "cell_type": "code",
   "execution_count": 13,
   "metadata": {},
   "outputs": [
    {
     "name": "stdout",
     "output_type": "stream",
     "text": [
      "+-----------+-------------------+-----------------+----------------+\n",
      "|       time|ano_primeiro_titulo|ano_ultimo_titulo|anos_sem_titulos|\n",
      "+-----------+-------------------+-----------------+----------------+\n",
      "|Corinthians|               1990|             2017|               5|\n",
      "|  Palmeiras|               1960|             2018|               4|\n",
      "|  São Paulo|               1977|             2008|              14|\n",
      "|     Santos|               1961|             2004|              18|\n",
      "+-----------+-------------------+-----------------+----------------+\n",
      "\n"
     ]
    }
   ],
   "source": [
    "# Importando função\n",
    "from pyspark.sql.functions import element_at\n",
    "\n",
    "# Visualizando primeiro e último título brasileiro\n",
    "df_titulos_br = df_times_br.select(\n",
    "    col(\"time\"),\n",
    "    element_at(col(\"anos_titulos_br\"), 1).alias(\"ano_primeiro_titulo\"),\n",
    "    element_at(col(\"anos_titulos_br\"), -1).alias(\"ano_ultimo_titulo\"),\n",
    "    expr(\"year(current_date()) - element_at(anos_titulos_br, -1) AS anos_sem_titulos\"),\n",
    ")\n",
    "\n",
    "# Visualizando dados\n",
    "df_titulos_br.show()"
   ]
  },
  {
   "cell_type": "markdown",
   "metadata": {},
   "source": [
    "### slice"
   ]
  },
  {
   "cell_type": "code",
   "execution_count": 20,
   "metadata": {},
   "outputs": [
    {
     "name": "stdout",
     "output_type": "stream",
     "text": [
      "+-----------+------------------+\n",
      "|       time| primeiros_titulos|\n",
      "+-----------+------------------+\n",
      "|Corinthians|[1990, 1998, 1999]|\n",
      "|  Palmeiras|[1960, 1967, 1967]|\n",
      "|  São Paulo|[1977, 1986, 1991]|\n",
      "|     Santos|[1961, 1962, 1963]|\n",
      "+-----------+------------------+\n",
      "\n"
     ]
    }
   ],
   "source": [
    "# Importando função\n",
    "from pyspark.sql.functions import slice\n",
    "\n",
    "# Selecionando primeiros títulos\n",
    "df_prim_titulos = df_times_br.select(\n",
    "    col(\"time\"),\n",
    "    slice(col(\"anos_titulos_br\"), 1, 3).alias(\"primeiros_titulos\"),\n",
    ")\n",
    "\n",
    "# Visualizando dados\n",
    "df_prim_titulos.show()"
   ]
  },
  {
   "cell_type": "markdown",
   "metadata": {},
   "source": [
    "### size"
   ]
  },
  {
   "cell_type": "code",
   "execution_count": 28,
   "metadata": {},
   "outputs": [
    {
     "name": "stdout",
     "output_type": "stream",
     "text": [
      "+-----------+--------------+-------------------+-----------------+-----------------+\n",
      "|       time|qtd_titulos_br|qtd_titulos_br_size|ano_ultimo_titulo|qtd_infos_estadio|\n",
      "+-----------+--------------+-------------------+-----------------+-----------------+\n",
      "|Corinthians|             7|                  7|             2017|                3|\n",
      "|  Palmeiras|            10|                 10|             2018|                3|\n",
      "|  São Paulo|             6|                  6|             2008|                3|\n",
      "|     Santos|             8|                  8|             2004|                2|\n",
      "+-----------+--------------+-------------------+-----------------+-----------------+\n",
      "\n"
     ]
    }
   ],
   "source": [
    "# Importando função\n",
    "from pyspark.sql.functions import size\n",
    "\n",
    "# Aplicando consulta sobre títulos br\n",
    "df_titulos = df_times_br.select(\n",
    "    col(\"time\"),\n",
    "    col(\"qtd_titulos_br\"),\n",
    "    size(col(\"anos_titulos_br\")).alias(\"qtd_titulos_br_size\"),\n",
    "    col(\"anos_titulos_br\")[size(col(\"anos_titulos_br\")) - 1].alias(\"ano_ultimo_titulo\"),\n",
    "    expr(\"size(estadio) AS qtd_infos_estadio\")\n",
    ")\n",
    "\n",
    "# Visualizando dados\n",
    "df_titulos.show()"
   ]
  },
  {
   "cell_type": "markdown",
   "metadata": {},
   "source": [
    "### array_contains"
   ]
  },
  {
   "cell_type": "code",
   "execution_count": 30,
   "metadata": {},
   "outputs": [
    {
     "name": "stdout",
     "output_type": "stream",
     "text": [
      "+-----------+------------+------------+\n",
      "|       time|campeao_2015|campeao_2018|\n",
      "+-----------+------------+------------+\n",
      "|Corinthians|        true|       false|\n",
      "|  Palmeiras|       false|        true|\n",
      "|  São Paulo|       false|       false|\n",
      "|     Santos|       false|       false|\n",
      "+-----------+------------+------------+\n",
      "\n"
     ]
    }
   ],
   "source": [
    "# Importando função\n",
    "from pyspark.sql.functions import array_contains\n",
    "\n",
    "# Analisando títulos em ano específico\n",
    "df_campeoes = df_times_br.select(\n",
    "    col(\"time\"),\n",
    "    array_contains(col(\"anos_titulos_br\"), 2015).alias(\"campeao_2015\"),\n",
    "    expr(\"array_contains(anos_titulos_br, 2018) AS campeao_2018\")\n",
    ")\n",
    "\n",
    "# Visualizando dados\n",
    "df_campeoes.show()"
   ]
  },
  {
   "cell_type": "markdown",
   "metadata": {},
   "source": [
    "### explode"
   ]
  },
  {
   "cell_type": "code",
   "execution_count": 35,
   "metadata": {},
   "outputs": [
    {
     "name": "stdout",
     "output_type": "stream",
     "text": [
      "+--------------------------+\n",
      "|conquistas_times_paulistas|\n",
      "+--------------------------+\n",
      "|                      1990|\n",
      "|                      1998|\n",
      "|                      1999|\n",
      "|                      2005|\n",
      "|                      2011|\n",
      "|                      2015|\n",
      "|                      2017|\n",
      "|                      1960|\n",
      "|                      1967|\n",
      "|                      1967|\n",
      "|                      1969|\n",
      "|                      1972|\n",
      "|                      1973|\n",
      "|                      1993|\n",
      "|                      1994|\n",
      "|                      2016|\n",
      "|                      2018|\n",
      "|                      1977|\n",
      "|                      1986|\n",
      "|                      1991|\n",
      "+--------------------------+\n",
      "only showing top 20 rows\n",
      "\n"
     ]
    }
   ],
   "source": [
    "# Importando função\n",
    "from pyspark.sql.functions import explode\n",
    "\n",
    "# Analisando todos os anos de títulos dos times paulistas\n",
    "df_conquistas_sp = df_times_br.select(\n",
    "    explode(col(\"anos_titulos_br\")).alias(\"conquistas_times_paulistas\")\n",
    ")\n",
    "\n",
    "# Visualizando resultados\n",
    "df_conquistas_sp.show()"
   ]
  },
  {
   "cell_type": "code",
   "execution_count": 39,
   "metadata": {},
   "outputs": [
    {
     "name": "stdout",
     "output_type": "stream",
     "text": [
      "+-----------+-----------+-----------------+\n",
      "|       time|        key|            value|\n",
      "+-----------+-----------+-----------------+\n",
      "|Corinthians|linha_metro|         Vermelha|\n",
      "|Corinthians|       nome|Neo Quimica Arena|\n",
      "|Corinthians|     regiao|         Itaquera|\n",
      "|  Palmeiras|linha_metro|         Vermelha|\n",
      "|  Palmeiras|       nome|     Allianz Park|\n",
      "|  Palmeiras|     regiao|      Barra Funda|\n",
      "|  São Paulo|linha_metro|          Amarela|\n",
      "|  São Paulo|       nome|          Morumbi|\n",
      "|  São Paulo|     regiao|          Morumbi|\n",
      "|     Santos|       nome|     Vila Belmiro|\n",
      "|     Santos|     regiao| Baixada Santista|\n",
      "+-----------+-----------+-----------------+\n",
      "\n"
     ]
    }
   ],
   "source": [
    "# Analisando informações de estádios\n",
    "df_info_estadios = df_times_br.select(\n",
    "    col(\"time\"),\n",
    "    expr(\"explode(estadio)\")\n",
    ")\n",
    "\n",
    "# Visualizando dados\n",
    "df_info_estadios.show()"
   ]
  },
  {
   "cell_type": "markdown",
   "metadata": {},
   "source": [
    "### split"
   ]
  },
  {
   "cell_type": "code",
   "execution_count": 43,
   "metadata": {},
   "outputs": [
    {
     "name": "stdout",
     "output_type": "stream",
     "text": [
      "+------------------+\n",
      "|split(time,  , -1)|\n",
      "+------------------+\n",
      "|     [Corinthians]|\n",
      "|       [Palmeiras]|\n",
      "|      [São, Paulo]|\n",
      "|          [Santos]|\n",
      "+------------------+\n",
      "\n"
     ]
    }
   ],
   "source": [
    "# Importando função\n",
    "from pyspark.sql.functions import split\n",
    "\n",
    "# Separando nomes de times\n",
    "df_times = df_times_br.select(\n",
    "    split(col(\"time\"), \" \")\n",
    ")\n",
    "\n",
    "# Visualizando dados\n",
    "df_times.show()"
   ]
  },
  {
   "cell_type": "code",
   "execution_count": 54,
   "metadata": {},
   "outputs": [
    {
     "name": "stdout",
     "output_type": "stream",
     "text": [
      "+-----------+---------------------+\n",
      "|       time|primeiro_nome_estadio|\n",
      "+-----------+---------------------+\n",
      "|Corinthians|                  Neo|\n",
      "|  Palmeiras|              Allianz|\n",
      "|  São Paulo|              Morumbi|\n",
      "|     Santos|                 Vila|\n",
      "+-----------+---------------------+\n",
      "\n"
     ]
    }
   ],
   "source": [
    "# Analisando primeiro termo que nomeia os estadios\n",
    "df_estadio_nome = df_times_br.selectExpr(\n",
    "    \"time\",\n",
    "    \"explode(estadio) AS (chave, valor)\"\n",
    ").where(expr(\"chave = 'nome'\")).selectExpr(\n",
    "    \"time\",\n",
    "    \"element_at(split(valor, ' '), 1) AS primeiro_nome_estadio\"\n",
    ")\n",
    "\n",
    "# Visualizando dados\n",
    "df_estadio_nome.show()"
   ]
  },
  {
   "cell_type": "markdown",
   "metadata": {},
   "source": [
    "### map"
   ]
  },
  {
   "cell_type": "code",
   "execution_count": 60,
   "metadata": {},
   "outputs": [
    {
     "name": "stdout",
     "output_type": "stream",
     "text": [
      "root\n",
      " |-- times_titulos: map (nullable = false)\n",
      " |    |-- key: string\n",
      " |    |-- value: integer (valueContainsNull = true)\n",
      "\n",
      "+------------------+\n",
      "|     times_titulos|\n",
      "+------------------+\n",
      "|{Corinthians -> 7}|\n",
      "| {Palmeiras -> 10}|\n",
      "|  {São Paulo -> 6}|\n",
      "|     {Santos -> 8}|\n",
      "+------------------+\n",
      "\n"
     ]
    }
   ],
   "source": [
    "# Importando função\n",
    "from pyspark.sql.functions import create_map\n",
    "\n",
    "# Gerando mappings\n",
    "df_complex_map = df_times_br.select(\n",
    "    create_map(col(\"time\"), col(\"qtd_titulos_br\")).alias(\"times_titulos\")\n",
    ")\n",
    "\n",
    "# Visualizando dados\n",
    "df_complex_map.printSchema()\n",
    "df_complex_map.show()"
   ]
  },
  {
   "cell_type": "code",
   "execution_count": 82,
   "metadata": {},
   "outputs": [
    {
     "name": "stdout",
     "output_type": "stream",
     "text": [
      "root\n",
      " |-- time_info_estadio: map (nullable = false)\n",
      " |    |-- key: string\n",
      " |    |-- value: map (valueContainsNull = true)\n",
      " |    |    |-- key: string\n",
      " |    |    |-- value: string (valueContainsNull = true)\n",
      "\n",
      "+-----------------------------------------------------------------------------------------+\n",
      "|time_info_estadio                                                                        |\n",
      "+-----------------------------------------------------------------------------------------+\n",
      "|{Corinthians -> {linha_metro -> Vermelha, nome -> Neo Quimica Arena, regiao -> Itaquera}}|\n",
      "|{Palmeiras -> {linha_metro -> Vermelha, nome -> Allianz Park, regiao -> Barra Funda}}    |\n",
      "|{São Paulo -> {linha_metro -> Amarela, nome -> Morumbi, regiao -> Morumbi}}              |\n",
      "|{Santos -> {nome -> Vila Belmiro, regiao -> Baixada Santista}}                           |\n",
      "+-----------------------------------------------------------------------------------------+\n",
      "\n"
     ]
    }
   ],
   "source": [
    "# Criando map aninhado\n",
    "df_times_estadio = df_times_br.select(\n",
    "    create_map(col(\"time\"), col(\"estadio\")).alias(\"time_info_estadio\")\n",
    ")\n",
    "\n",
    "# Visualizando dados\n",
    "df_times_estadio.printSchema()\n",
    "df_times_estadio.show(truncate=False)"
   ]
  },
  {
   "cell_type": "code",
   "execution_count": 81,
   "metadata": {},
   "outputs": [
    {
     "name": "stdout",
     "output_type": "stream",
     "text": [
      "+--------------------+-----------+--------------+\n",
      "|times_titulos_struct|       time|qtd_titulos_br|\n",
      "+--------------------+-----------+--------------+\n",
      "|    {Corinthians, 7}|Corinthians|             7|\n",
      "|     {Palmeiras, 10}|  Palmeiras|            10|\n",
      "|      {São Paulo, 6}|  São Paulo|             6|\n",
      "|         {Santos, 8}|     Santos|             8|\n",
      "+--------------------+-----------+--------------+\n",
      "\n"
     ]
    }
   ],
   "source": [
    "# Gerando dados do tipo struct\n",
    "df_times_br.selectExpr(\n",
    "    \"(time, qtd_titulos_br) AS times_titulos_struct\",\n",
    "    \"(time, qtd_titulos_br).time AS time\",\n",
    "    \"(time, qtd_titulos_br).qtd_titulos_br AS qtd_titulos_br\"\n",
    ").show()"
   ]
  },
  {
   "cell_type": "code",
   "execution_count": null,
   "metadata": {},
   "outputs": [],
   "source": []
  }
 ],
 "metadata": {
  "kernelspec": {
   "display_name": "Python 3.10.4 ('pyspark-venv')",
   "language": "python",
   "name": "python3"
  },
  "language_info": {
   "codemirror_mode": {
    "name": "ipython",
    "version": 3
   },
   "file_extension": ".py",
   "mimetype": "text/x-python",
   "name": "python",
   "nbconvert_exporter": "python",
   "pygments_lexer": "ipython3",
   "version": "3.10.4"
  },
  "orig_nbformat": 4,
  "vscode": {
   "interpreter": {
    "hash": "a3a59d43698a1c21b8ea695e9dada7fb9edd9002f05e8c3363eca03517868e40"
   }
  }
 },
 "nbformat": 4,
 "nbformat_minor": 2
}

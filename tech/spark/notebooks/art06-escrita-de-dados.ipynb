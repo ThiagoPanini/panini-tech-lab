{
 "cells": [
  {
   "cell_type": "code",
   "execution_count": 4,
   "metadata": {},
   "outputs": [
    {
     "name": "stderr",
     "output_type": "stream",
     "text": [
      "                                                                                \r"
     ]
    },
    {
     "name": "stdout",
     "output_type": "stream",
     "text": [
      "root\n",
      " |-- DEST_COUNTRY_NAME: string (nullable = true)\n",
      " |-- ORIGIN_COUNTRY_NAME: string (nullable = true)\n",
      " |-- count: integer (nullable = true)\n",
      "\n",
      "+-----------------+-------------------+-----+\n",
      "|DEST_COUNTRY_NAME|ORIGIN_COUNTRY_NAME|count|\n",
      "+-----------------+-------------------+-----+\n",
      "|    United States|            Romania|   15|\n",
      "|    United States|            Croatia|    1|\n",
      "|    United States|            Ireland|  344|\n",
      "|            Egypt|      United States|   15|\n",
      "|    United States|              India|   62|\n",
      "+-----------------+-------------------+-----+\n",
      "only showing top 5 rows\n",
      "\n"
     ]
    }
   ],
   "source": [
    "# Importando bibliotecas\n",
    "from pyspark.sql import SparkSession\n",
    "import os\n",
    "from warnings import filterwarnings\n",
    "filterwarnings('ignore')\n",
    "\n",
    "# Inicializando sessão\n",
    "spark = SparkSession\\\n",
    "    .builder\\\n",
    "    .appName(\"art06-escrita-dados\")\\\n",
    "    .getOrCreate()\n",
    "\n",
    "# Definindo variáveis de diretório para leitura dos arquivos\n",
    "parent_dir = ''.join(os.path.pardir + \"/\") * 3\n",
    "flights_dir = os.path.join(parent_dir, 'data/flights-data/summary-data')\n",
    "\n",
    "# Definindo variáveis de leitura para cada formato\n",
    "csv_data_path = os.path.join(flights_dir, 'csv/2015-summary.csv')\n",
    "\n",
    "# Lendo arquivo CSV a ser utilizado nos exemplos de escrita\n",
    "df_csv = spark.read.format(\"csv\")\\\n",
    "    .option(\"inferSchema\", \"true\")\\\n",
    "    .option(\"header\", \"true\")\\\n",
    "    .load(csv_data_path)\n",
    "\n",
    "# Verificando DataFrame\n",
    "df_csv.printSchema()\n",
    "df_csv.show(5)"
   ]
  },
  {
   "cell_type": "markdown",
   "metadata": {},
   "source": [
    "## Escrita de Dados"
   ]
  },
  {
   "cell_type": "code",
   "execution_count": 10,
   "metadata": {},
   "outputs": [],
   "source": [
    "# Escrevendo DataFrame em formato JSON\n",
    "df_csv.write.format(\"json\").mode(\"overwrite\").save('output/flights_json')"
   ]
  },
  {
   "cell_type": "code",
   "execution_count": 11,
   "metadata": {},
   "outputs": [],
   "source": [
    "# Escrevendo DataFrame em formato CSV\n",
    "df_csv.write.format(\"csv\").mode(\"overwrite\").save('output/flights_csv')\n",
    "\n",
    "# Escrevendo DataFrame em formato ORC\n",
    "df_csv.write.format(\"orc\").mode(\"overwrite\").save('output/flights_orc')\n",
    "\n",
    "# Escrevendo DataFrame em formato PARQUET\n",
    "df_csv.write.format(\"parquet\").mode(\"overwrite\").save('output/flights_parquet')"
   ]
  },
  {
   "cell_type": "code",
   "execution_count": 5,
   "metadata": {},
   "outputs": [
    {
     "name": "stderr",
     "output_type": "stream",
     "text": [
      "                                                                                \r"
     ]
    }
   ],
   "source": [
    "# Salvando base particionada no formato PARQUET\n",
    "df_csv.write.format(\"parquet\")\\\n",
    "    .mode(\"append\")\\\n",
    "    .partitionBy(\"DEST_COUNTRY_NAME\")\\\n",
    "    .save(\"output/flights_parquet_partitioned\")"
   ]
  },
  {
   "cell_type": "code",
   "execution_count": null,
   "metadata": {},
   "outputs": [],
   "source": []
  }
 ],
 "metadata": {
  "kernelspec": {
   "display_name": "Python 3.10.4 ('pyspark-venv')",
   "language": "python",
   "name": "python3"
  },
  "language_info": {
   "codemirror_mode": {
    "name": "ipython",
    "version": 3
   },
   "file_extension": ".py",
   "mimetype": "text/x-python",
   "name": "python",
   "nbconvert_exporter": "python",
   "pygments_lexer": "ipython3",
   "version": "3.10.4"
  },
  "orig_nbformat": 4,
  "vscode": {
   "interpreter": {
    "hash": "a3a59d43698a1c21b8ea695e9dada7fb9edd9002f05e8c3363eca03517868e40"
   }
  }
 },
 "nbformat": 4,
 "nbformat_minor": 2
}

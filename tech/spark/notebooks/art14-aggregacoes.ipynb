{
 "cells": [
  {
   "cell_type": "code",
   "execution_count": 2,
   "metadata": {},
   "outputs": [
    {
     "name": "stdout",
     "output_type": "stream",
     "text": [
      "root\n",
      " |-- device_id: integer (nullable = true)\n",
      " |-- device_name: string (nullable = true)\n",
      " |-- ip: string (nullable = true)\n",
      " |-- cca2: string (nullable = true)\n",
      " |-- cca3: string (nullable = true)\n",
      " |-- cn: string (nullable = true)\n",
      " |-- latitude: double (nullable = true)\n",
      " |-- longitude: double (nullable = true)\n",
      " |-- scale: string (nullable = true)\n",
      " |-- temp: integer (nullable = true)\n",
      " |-- humidity: integer (nullable = true)\n",
      " |-- battery_level: string (nullable = true)\n",
      " |-- c02_level: integer (nullable = true)\n",
      " |-- lcd: string (nullable = true)\n",
      " |-- timestamp: long (nullable = true)\n",
      "\n",
      "+---------+--------------------+-------------+----+----+-------------+--------+---------+-------+----+--------+-------------+---------+------+-------------+\n",
      "|device_id|         device_name|           ip|cca2|cca3|           cn|latitude|longitude|  scale|temp|humidity|battery_level|c02_level|   lcd|    timestamp|\n",
      "+---------+--------------------+-------------+----+----+-------------+--------+---------+-------+----+--------+-------------+---------+------+-------------+\n",
      "|        1|meter-gauge-1xbYRYcj| 68.161.225.1|  US| USA|United States|    38.0|    -97.0|Celsius|  34|      51|            8|      868| green|1458444054093|\n",
      "|        2|   sensor-pad-2n2Pea|213.161.254.1|  NO| NOR|       Norway|   62.47|     6.15|Celsius|  11|      70|            7|     1473|   red|1458444054119|\n",
      "|        3| device-mac-36TWSKiT|    88.36.5.1|  IT| ITA|        Italy|   42.83|    12.83|Celsius|  19|      44|            2|     1556|   red|1458444054120|\n",
      "|        4|   sensor-pad-4mzWkz|66.39.173.154|  US| USA|United States|   44.06|  -121.32|Celsius|  28|      32|            6|     1080|yellow|1458444054121|\n",
      "|        5|therm-stick-5gimp...|  203.82.41.9|  PH| PHL|  Philippines|   14.58|   120.97|Celsius|  25|      62|            4|      931| green|1458444054122|\n",
      "+---------+--------------------+-------------+----+----+-------------+--------+---------+-------+----+--------+-------------+---------+------+-------------+\n",
      "only showing top 5 rows\n",
      "\n"
     ]
    }
   ],
   "source": [
    "# Importando biblitoecas\n",
    "from pyspark.sql import SparkSession\n",
    "from pyspark.sql.types import StructType, StructField, \\\n",
    "    StringType, IntegerType, DoubleType, LongType\n",
    "from pyspark.sql.functions import col, expr\n",
    "import os \n",
    "from warnings import filterwarnings\n",
    "filterwarnings(\"ignore\")\n",
    "\n",
    "# Criando objeto de sessão\n",
    "spark = SparkSession\\\n",
    "    .builder\\\n",
    "    .appName(\"agregacoes\")\\\n",
    "    .getOrCreate()\n",
    "\n",
    "# Definindo variáveis de diretório\n",
    "home_path = os.path.expanduser('~')\n",
    "data_path = os.path.join(home_path, 'dev/panini-tech-lab/data')\n",
    "iot_path = os.path.join(data_path, 'iot-devices/iot_devices.json')\n",
    "\n",
    "# Definindo schema para o arquivo a ser lido\n",
    "iot_schema = StructType([\n",
    "    StructField(\"device_id\", IntegerType(), nullable=False),\n",
    "    StructField(\"device_name\", StringType(), nullable=True),\n",
    "    StructField(\"ip\", StringType(), nullable=True),\n",
    "    StructField(\"cca2\", StringType(), nullable=True),\n",
    "    StructField(\"cca3\", StringType(), nullable=True),\n",
    "    StructField(\"cn\", StringType(), nullable=True),\n",
    "    StructField(\"latitude\", DoubleType(), nullable=True),\n",
    "    StructField(\"longitude\", DoubleType(), nullable=True),\n",
    "    StructField(\"scale\", StringType(), nullable=True),\n",
    "    StructField(\"temp\", IntegerType(), nullable=True),\n",
    "    StructField(\"humidity\", IntegerType(), nullable=True),\n",
    "    StructField(\"battery_level\", StringType(), nullable=True),\n",
    "    StructField(\"c02_level\", IntegerType(), nullable=True),\n",
    "    StructField(\"lcd\", StringType(), nullable=True),\n",
    "    StructField(\"timestamp\", LongType(), nullable=False)\n",
    "])\n",
    "\n",
    "# Lendo dados\n",
    "df_iot = spark.read.format(\"json\")\\\n",
    "    .schema(iot_schema).load(iot_path)\n",
    "\n",
    "# Criando tabelas temporárias\n",
    "df_iot.createOrReplaceTempView(\"tbl_iot\")\n",
    "\n",
    "# Visualizando dados\n",
    "df_iot.printSchema()\n",
    "df_iot.show(5)"
   ]
  },
  {
   "cell_type": "markdown",
   "metadata": {},
   "source": [
    "## count"
   ]
  },
  {
   "cell_type": "code",
   "execution_count": 5,
   "metadata": {},
   "outputs": [
    {
     "name": "stderr",
     "output_type": "stream",
     "text": [
      "[Stage 5:>                                                          (0 + 4) / 4]\r"
     ]
    },
    {
     "name": "stdout",
     "output_type": "stream",
     "text": [
      "+----------------+\n",
      "|count(device_id)|\n",
      "+----------------+\n",
      "|          198164|\n",
      "+----------------+\n",
      "\n"
     ]
    },
    {
     "name": "stderr",
     "output_type": "stream",
     "text": [
      "                                                                                \r"
     ]
    }
   ],
   "source": [
    "# Importando função\n",
    "from pyspark.sql.functions import count\n",
    "\n",
    "# Contando leituras realizadas\n",
    "df_iot.select(\n",
    "    count(\"device_id\")\n",
    ").show()"
   ]
  },
  {
   "cell_type": "markdown",
   "metadata": {},
   "source": [
    "## countDistinct"
   ]
  },
  {
   "cell_type": "code",
   "execution_count": 11,
   "metadata": {},
   "outputs": [
    {
     "name": "stdout",
     "output_type": "stream",
     "text": [
      "+--------------------+\n",
      "|count(DISTINCT cca3)|\n",
      "+--------------------+\n",
      "|                 205|\n",
      "+--------------------+\n",
      "\n"
     ]
    }
   ],
   "source": [
    "# Importando função\n",
    "from pyspark.sql.functions import countDistinct\n",
    "\n",
    "# Contando países distintos\n",
    "df_iot.select(\n",
    "    countDistinct(\"cca3\")\n",
    ").show()"
   ]
  },
  {
   "cell_type": "markdown",
   "metadata": {},
   "source": [
    "## first e last"
   ]
  },
  {
   "cell_type": "code",
   "execution_count": 12,
   "metadata": {},
   "outputs": [
    {
     "name": "stdout",
     "output_type": "stream",
     "text": [
      "+--------------------+------------------+\n",
      "|primeira_temperatura|ultima_temperatura|\n",
      "+--------------------+------------------+\n",
      "|                  34|                12|\n",
      "+--------------------+------------------+\n",
      "\n"
     ]
    }
   ],
   "source": [
    "# Importando funções\n",
    "from pyspark.sql.functions import first, last\n",
    "\n",
    "# Obtendo primeira e última medição de temperatura\n",
    "df_iot.select(\n",
    "    first(\"temp\").alias(\"primeira_temperatura\"),\n",
    "    last(\"temp\").alias(\"ultima_temperatura\")\n",
    ").show()"
   ]
  },
  {
   "cell_type": "markdown",
   "metadata": {},
   "source": [
    "## min e max"
   ]
  },
  {
   "cell_type": "code",
   "execution_count": 15,
   "metadata": {},
   "outputs": [
    {
     "name": "stdout",
     "output_type": "stream",
     "text": [
      "+--------+--------+\n",
      "|min_temp|max_temp|\n",
      "+--------+--------+\n",
      "|      10|      34|\n",
      "+--------+--------+\n",
      "\n"
     ]
    }
   ],
   "source": [
    "# Importando funções\n",
    "from pyspark.sql.functions import min, max\n",
    "\n",
    "# Obtendo mínimo e máximo de temperatura\n",
    "df_iot.where(col(\"scale\") == \"Celsius\")\\\n",
    "    .select(\n",
    "        min(\"temp\").alias(\"min_temp\"),\n",
    "        max(\"temp\").alias(\"max_temp\")\n",
    "    ).show()"
   ]
  },
  {
   "cell_type": "markdown",
   "metadata": {},
   "source": [
    "### sum"
   ]
  },
  {
   "cell_type": "code",
   "execution_count": 17,
   "metadata": {},
   "outputs": [
    {
     "name": "stdout",
     "output_type": "stream",
     "text": [
      "+--------------+\n",
      "|sum(c02_level)|\n",
      "+--------------+\n",
      "|     237750022|\n",
      "+--------------+\n",
      "\n"
     ]
    }
   ],
   "source": [
    "# Importando função\n",
    "from pyspark.sql.functions import sum\n",
    "\n",
    "# Soma total de nível de gás carbônico\n",
    "df_iot.select(\n",
    "    sum(\"c02_level\")\n",
    ").show()"
   ]
  },
  {
   "cell_type": "markdown",
   "metadata": {},
   "source": [
    "### avg"
   ]
  },
  {
   "cell_type": "code",
   "execution_count": 18,
   "metadata": {},
   "outputs": [
    {
     "name": "stdout",
     "output_type": "stream",
     "text": [
      "+-----------------+\n",
      "|    avg(humidity)|\n",
      "+-----------------+\n",
      "|61.99212773258513|\n",
      "+-----------------+\n",
      "\n"
     ]
    }
   ],
   "source": [
    "# Importando função\n",
    "from pyspark.sql.functions import avg\n",
    "\n",
    "# Obtendo a umidade média da base\n",
    "df_iot.select(\n",
    "    avg(\"humidity\")\n",
    ").show()"
   ]
  },
  {
   "cell_type": "markdown",
   "metadata": {},
   "source": [
    "### var e stddev\n"
   ]
  },
  {
   "cell_type": "code",
   "execution_count": 20,
   "metadata": {},
   "outputs": [
    {
     "name": "stderr",
     "output_type": "stream",
     "text": [
      "[Stage 53:===========================================>              (3 + 1) / 4]\r"
     ]
    },
    {
     "name": "stdout",
     "output_type": "stream",
     "text": [
      "+------------------+------------------+------------------+-----------------+\n",
      "|       var_pop_co2|      var_samp_co2|    stddev_pop_co2|  stddev_samp_co2|\n",
      "+------------------+------------------+------------------+-----------------+\n",
      "|53388.466026752736|53388.735443677324|231.05944262624874|231.0600256290069|\n",
      "+------------------+------------------+------------------+-----------------+\n",
      "\n"
     ]
    },
    {
     "name": "stderr",
     "output_type": "stream",
     "text": [
      "                                                                                \r"
     ]
    }
   ],
   "source": [
    "# Importando funções\n",
    "from pyspark.sql.functions import var_pop, var_samp, \\\n",
    "    stddev_pop, stddev_samp\n",
    "\n",
    "# Obtendo variância e desvio padrão de gás carbônico\n",
    "df_iot.select(\n",
    "    var_pop(\"c02_level\").alias(\"var_pop_co2\"),\n",
    "    var_samp(\"c02_level\").alias(\"var_samp_co2\"),\n",
    "    stddev_pop(\"c02_level\").alias(\"stddev_pop_co2\"),\n",
    "    stddev_samp(\"c02_level\").alias(\"stddev_samp_co2\")\n",
    ").show()"
   ]
  },
  {
   "cell_type": "markdown",
   "metadata": {},
   "source": [
    "## Grouping"
   ]
  },
  {
   "cell_type": "code",
   "execution_count": 34,
   "metadata": {},
   "outputs": [
    {
     "name": "stdout",
     "output_type": "stream",
     "text": [
      "+----+------------------+\n",
      "|cca3|         avg(temp)|\n",
      "+----+------------------+\n",
      "| AIA|31.142857142857142|\n",
      "| GRL|              29.5|\n",
      "| GAB|              28.0|\n",
      "| VUT|              27.3|\n",
      "| LCA|              27.0|\n",
      "| MWI|26.666666666666668|\n",
      "| TKM|26.666666666666668|\n",
      "| IRQ|26.428571428571427|\n",
      "| LAO|26.285714285714285|\n",
      "| IOT|              26.0|\n",
      "+----+------------------+\n",
      "only showing top 10 rows\n",
      "\n"
     ]
    }
   ],
   "source": [
    "# Importando função\n",
    "from pyspark.sql.functions import desc\n",
    "\n",
    "# Retornando os países com maior média de temperatura\n",
    "df_high_temp = df_iot\\\n",
    "    .groupBy(\"cca3\")\\\n",
    "    .avg(\"temp\")\\\n",
    "    .orderBy(desc(\"avg(temp)\"))\n",
    "\n",
    "# Visualizando resultado\n",
    "df_high_temp.show(10)"
   ]
  },
  {
   "cell_type": "code",
   "execution_count": 40,
   "metadata": {},
   "outputs": [
    {
     "name": "stderr",
     "output_type": "stream",
     "text": [
      "[Stage 86:=============================>                            (2 + 2) / 4]\r"
     ]
    },
    {
     "name": "stdout",
     "output_type": "stream",
     "text": [
      "+----+------------+------------------+---------+---------+\n",
      "|cca3|qtd_medicoes| temperatura_media|max_humid|min_humid|\n",
      "+----+------------+------------------+---------+---------+\n",
      "| VIR|          51|20.392156862745097|       99|       25|\n",
      "| PNG|          16|             23.25|       99|       30|\n",
      "| HRV|         193|22.854922279792746|       99|       25|\n",
      "| POL|        2744|21.983965014577258|       99|       25|\n",
      "| GBR|        6486|22.085877274128894|       99|       25|\n",
      "| JAM|          44|22.113636363636363|       99|       26|\n",
      "| ARE|         123|22.211382113821138|       99|       25|\n",
      "| JOR|          46|21.065217391304348|       99|       27|\n",
      "| CRI|         116| 22.45689655172414|       99|       25|\n",
      "| URY|         117|21.572649572649574|       99|       25|\n",
      "+----+------------+------------------+---------+---------+\n",
      "only showing top 10 rows\n",
      "\n"
     ]
    },
    {
     "name": "stderr",
     "output_type": "stream",
     "text": [
      "                                                                                \r"
     ]
    }
   ],
   "source": [
    "# Coletando temperatura média e picos de umidade por país\n",
    "df_iot\\\n",
    "    .groupBy(\"cca3\").agg(\n",
    "        count(\"device_name\").alias(\"qtd_medicoes\"),\n",
    "        avg(\"temp\").alias(\"temperatura_media\"),\n",
    "        max(\"humidity\").alias(\"max_humid\"),\n",
    "        min(\"humidity\").alias(\"min_humid\")\n",
    "    ).orderBy(desc(\"max_humid\")).show(10)"
   ]
  },
  {
   "cell_type": "code",
   "execution_count": 41,
   "metadata": {},
   "outputs": [
    {
     "name": "stdout",
     "output_type": "stream",
     "text": [
      "+---------+--------------------+-------------+----+----+-------------+--------+---------+-------+----+--------+-------------+---------+------+-------------+\n",
      "|device_id|         device_name|           ip|cca2|cca3|           cn|latitude|longitude|  scale|temp|humidity|battery_level|c02_level|   lcd|    timestamp|\n",
      "+---------+--------------------+-------------+----+----+-------------+--------+---------+-------+----+--------+-------------+---------+------+-------------+\n",
      "|        1|meter-gauge-1xbYRYcj| 68.161.225.1|  US| USA|United States|    38.0|    -97.0|Celsius|  34|      51|            8|      868| green|1458444054093|\n",
      "|        2|   sensor-pad-2n2Pea|213.161.254.1|  NO| NOR|       Norway|   62.47|     6.15|Celsius|  11|      70|            7|     1473|   red|1458444054119|\n",
      "|        3| device-mac-36TWSKiT|    88.36.5.1|  IT| ITA|        Italy|   42.83|    12.83|Celsius|  19|      44|            2|     1556|   red|1458444054120|\n",
      "|        4|   sensor-pad-4mzWkz|66.39.173.154|  US| USA|United States|   44.06|  -121.32|Celsius|  28|      32|            6|     1080|yellow|1458444054121|\n",
      "|        5|therm-stick-5gimp...|  203.82.41.9|  PH| PHL|  Philippines|   14.58|   120.97|Celsius|  25|      62|            4|      931| green|1458444054122|\n",
      "+---------+--------------------+-------------+----+----+-------------+--------+---------+-------+----+--------+-------------+---------+------+-------------+\n",
      "only showing top 5 rows\n",
      "\n"
     ]
    }
   ],
   "source": [
    "df_iot.show(5)"
   ]
  },
  {
   "cell_type": "code",
   "execution_count": 49,
   "metadata": {},
   "outputs": [
    {
     "name": "stderr",
     "output_type": "stream",
     "text": [
      "[Stage 111:==============>                                          (1 + 3) / 4]\r"
     ]
    },
    {
     "name": "stdout",
     "output_type": "stream",
     "text": [
      "+-----------------+------+------------+---------+--------------+--------+--------+\n",
      "|cn               |lcd   |qtd_medicoes|co2_medio|stddev_battery|max_temp|min_temp|\n",
      "+-----------------+------+------------+---------+--------------+--------+--------+\n",
      "|United States    |yellow|34329       |1200.9   |2.9           |34      |10      |\n",
      "|United States    |green |17166       |900.6    |2.9           |34      |10      |\n",
      "|United States    |red   |17050       |1500.5   |2.9           |34      |10      |\n",
      "|China            |yellow|7229        |1200.1   |2.9           |34      |10      |\n",
      "|Japan            |yellow|6087        |1201.9   |2.9           |34      |10      |\n",
      "|Republic of Korea|yellow|5902        |1197.8   |2.9           |34      |10      |\n",
      "|Germany          |yellow|4002        |1198.7   |2.9           |34      |10      |\n",
      "|China            |red   |3616        |1500.1   |2.9           |34      |10      |\n",
      "|China            |green |3610        |900.2    |2.9           |34      |10      |\n",
      "|United Kingdom   |yellow|3221        |1201.2   |2.9           |34      |10      |\n",
      "+-----------------+------+------------+---------+--------------+--------+--------+\n",
      "only showing top 10 rows\n",
      "\n"
     ]
    },
    {
     "name": "stderr",
     "output_type": "stream",
     "text": [
      "                                                                                \r"
     ]
    }
   ],
   "source": [
    "# Agrupando por país e lcd\n",
    "df_iot.groupby(\"cn\", \"lcd\").agg(\n",
    "    expr(\"count(1) AS qtd_medicoes\"),\n",
    "    expr(\"round(avg(c02_level), 1) AS co2_medio\"),\n",
    "    expr(\"round(stddev_pop(battery_level), 1) AS stddev_battery\"),\n",
    "    expr(\"round(max(temp), 1) AS max_temp\"),\n",
    "    expr(\"round(min(temp), 1) AS min_temp\"),\n",
    ").orderBy(desc(\"qtd_medicoes\")).show(10, truncate=False)"
   ]
  },
  {
   "cell_type": "code",
   "execution_count": null,
   "metadata": {},
   "outputs": [],
   "source": []
  }
 ],
 "metadata": {
  "kernelspec": {
   "display_name": "Python 3.10.4 ('pyspark-venv')",
   "language": "python",
   "name": "python3"
  },
  "language_info": {
   "codemirror_mode": {
    "name": "ipython",
    "version": 3
   },
   "file_extension": ".py",
   "mimetype": "text/x-python",
   "name": "python",
   "nbconvert_exporter": "python",
   "pygments_lexer": "ipython3",
   "version": "3.10.4"
  },
  "orig_nbformat": 4,
  "vscode": {
   "interpreter": {
    "hash": "a3a59d43698a1c21b8ea695e9dada7fb9edd9002f05e8c3363eca03517868e40"
   }
  }
 },
 "nbformat": 4,
 "nbformat_minor": 2
}

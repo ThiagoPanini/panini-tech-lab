{
 "cells": [
  {
   "cell_type": "code",
   "execution_count": 1,
   "metadata": {},
   "outputs": [
    {
     "name": "stdout",
     "output_type": "stream",
     "text": [
      "22/08/15 21:18:01 WARN Utils: Your hostname, panini-ubuntu resolves to a loopback address: 127.0.1.1; using 10.0.0.110 instead (on interface enp3s0)\n",
      "22/08/15 21:18:01 WARN Utils: Set SPARK_LOCAL_IP if you need to bind to another address\n"
     ]
    },
    {
     "name": "stderr",
     "output_type": "stream",
     "text": [
      "Setting default log level to \"WARN\".\n",
      "To adjust logging level use sc.setLogLevel(newLevel). For SparkR, use setLogLevel(newLevel).\n"
     ]
    },
    {
     "name": "stdout",
     "output_type": "stream",
     "text": [
      "22/08/15 21:18:10 WARN NativeCodeLoader: Unable to load native-hadoop library for your platform... using builtin-java classes where applicable\n"
     ]
    },
    {
     "name": "stderr",
     "output_type": "stream",
     "text": [
      "                                                                                \r"
     ]
    }
   ],
   "source": [
    "# Importando bibliotecas\n",
    "from pyspark.sql import SparkSession\n",
    "from pyspark.sql.types import StructType, StructField,\\\n",
    "    IntegerType, StringType\n",
    "from pyspark.sql.functions import col, expr\n",
    "import os\n",
    "\n",
    "# Criando objeto de sessão\n",
    "spark = SparkSession\\\n",
    "    .builder\\\n",
    "    .appName(\"joins-spark\")\\\n",
    "    .getOrCreate()\n",
    "\n",
    "# Definindo variáveis de diretório\n",
    "home_path = os.path.expanduser(\"~\")\n",
    "data_path = os.path.join(home_path, \"dev/panini-tech-lab/data\")\n",
    "flights_path = os.path.join(data_path, \"flights-data\")\n",
    "\n",
    "# Definindo variáveis para leitura de arquivos\n",
    "summary_path = os.path.join(flights_path, \"summary-data/csv/2015-summary.csv\")\n",
    "airports_codes_path = os.path.join(flights_path, \"airport-codes-na/airport-codes-na.txt\")\n",
    "departure_delay_path = os.path.join(flights_path, \"departure-delays/departuredelays.csv\")\n",
    "\n",
    "# Realizando a leitura dos dados de sumário\n",
    "df_flights = spark.read.format(\"csv\")\\\n",
    "    .option(\"inferSchema\", \"true\")\\\n",
    "    .option(\"header\", \"true\")\\\n",
    "    .load(summary_path)\n",
    "\n",
    "# Realizando a leitura de depara de códigos de aeroportos\n",
    "df_air_codes = spark.read.format(\"csv\")\\\n",
    "    .option(\"inferSchema\", \"true\")\\\n",
    "    .option(\"header\", \"true\")\\\n",
    "    .option(\"sep\", \"\\t\")\\\n",
    "    .load(airports_codes_path)\n",
    "\n",
    "# Realizando a leitura de dados de partida de vôos\n",
    "df_departure = spark.read.format(\"csv\")\\\n",
    "    .option(\"inferSchema\", \"true\")\\\n",
    "    .option(\"header\", \"true\")\\\n",
    "    .load(departure_delay_path)"
   ]
  },
  {
   "cell_type": "code",
   "execution_count": 2,
   "metadata": {},
   "outputs": [
    {
     "name": "stdout",
     "output_type": "stream",
     "text": [
      "root\n",
      " |-- DEST_COUNTRY_NAME: string (nullable = true)\n",
      " |-- ORIGIN_COUNTRY_NAME: string (nullable = true)\n",
      " |-- count: integer (nullable = true)\n",
      "\n",
      "+-----------------+-------------------+-----+\n",
      "|DEST_COUNTRY_NAME|ORIGIN_COUNTRY_NAME|count|\n",
      "+-----------------+-------------------+-----+\n",
      "|    United States|            Romania|   15|\n",
      "|    United States|            Croatia|    1|\n",
      "|    United States|            Ireland|  344|\n",
      "|            Egypt|      United States|   15|\n",
      "|    United States|              India|   62|\n",
      "+-----------------+-------------------+-----+\n",
      "only showing top 5 rows\n",
      "\n"
     ]
    }
   ],
   "source": [
    "# Visualizando dados de resumo\n",
    "df_flights.printSchema()\n",
    "df_flights.show(5)"
   ]
  },
  {
   "cell_type": "code",
   "execution_count": 3,
   "metadata": {},
   "outputs": [
    {
     "name": "stdout",
     "output_type": "stream",
     "text": [
      "root\n",
      " |-- City: string (nullable = true)\n",
      " |-- State: string (nullable = true)\n",
      " |-- Country: string (nullable = true)\n",
      " |-- IATA: string (nullable = true)\n",
      "\n",
      "+----------+-----+-------+----+\n",
      "|      City|State|Country|IATA|\n",
      "+----------+-----+-------+----+\n",
      "|Abbotsford|   BC| Canada| YXX|\n",
      "|  Aberdeen|   SD|    USA| ABR|\n",
      "|   Abilene|   TX|    USA| ABI|\n",
      "|     Akron|   OH|    USA| CAK|\n",
      "|   Alamosa|   CO|    USA| ALS|\n",
      "+----------+-----+-------+----+\n",
      "only showing top 5 rows\n",
      "\n"
     ]
    }
   ],
   "source": [
    "# Visualizando dados de aeroportos\n",
    "df_air_codes.printSchema()\n",
    "df_air_codes.show(5)"
   ]
  },
  {
   "cell_type": "code",
   "execution_count": 7,
   "metadata": {},
   "outputs": [
    {
     "name": "stdout",
     "output_type": "stream",
     "text": [
      "root\n",
      " |-- date: integer (nullable = true)\n",
      " |-- delay: integer (nullable = true)\n",
      " |-- distance: integer (nullable = true)\n",
      " |-- origin: string (nullable = true)\n",
      " |-- destination: string (nullable = true)\n",
      "\n",
      "+-------+-----+--------+------+-----------+\n",
      "|   date|delay|distance|origin|destination|\n",
      "+-------+-----+--------+------+-----------+\n",
      "|1011245|    6|     602|   ABE|        ATL|\n",
      "|1020600|   -8|     369|   ABE|        DTW|\n",
      "|1021245|   -2|     602|   ABE|        ATL|\n",
      "|1020605|   -4|     602|   ABE|        ATL|\n",
      "|1031245|   -4|     602|   ABE|        ATL|\n",
      "|1030605|    0|     602|   ABE|        ATL|\n",
      "|1041243|   10|     602|   ABE|        ATL|\n",
      "|1040605|   28|     602|   ABE|        ATL|\n",
      "|1051245|   88|     602|   ABE|        ATL|\n",
      "|1050605|    9|     602|   ABE|        ATL|\n",
      "|1061215|   -6|     602|   ABE|        ATL|\n",
      "|1061725|   69|     602|   ABE|        ATL|\n",
      "|1061230|    0|     369|   ABE|        DTW|\n",
      "|1060625|   -3|     602|   ABE|        ATL|\n",
      "|1070600|    0|     369|   ABE|        DTW|\n",
      "+-------+-----+--------+------+-----------+\n",
      "only showing top 15 rows\n",
      "\n"
     ]
    }
   ],
   "source": [
    "# Visualizando dados de saídas de vôos\n",
    "df_departure.printSchema()\n",
    "df_departure.show(15)"
   ]
  },
  {
   "cell_type": "markdown",
   "metadata": {},
   "source": [
    "## Exemplos Práticos"
   ]
  },
  {
   "cell_type": "markdown",
   "metadata": {},
   "source": [
    "### Aeroportos com maior média de atraso"
   ]
  },
  {
   "cell_type": "code",
   "execution_count": 26,
   "metadata": {},
   "outputs": [
    {
     "name": "stdout",
     "output_type": "stream",
     "text": [
      "+-------+-----+--------+--------------+-----------+------------+----------------+\n",
      "|   date|delay|distance|airport_origin|city_origin|airport_dest|city_destination|\n",
      "+-------+-----+--------+--------------+-----------+------------+----------------+\n",
      "|1011245|    6|     602|           ABE|  Allentown|         ATL|         Atlanta|\n",
      "|1020600|   -8|     369|           ABE|  Allentown|         DTW|         Detroit|\n",
      "|1021245|   -2|     602|           ABE|  Allentown|         ATL|         Atlanta|\n",
      "|1020605|   -4|     602|           ABE|  Allentown|         ATL|         Atlanta|\n",
      "|1031245|   -4|     602|           ABE|  Allentown|         ATL|         Atlanta|\n",
      "+-------+-----+--------+--------------+-----------+------------+----------------+\n",
      "only showing top 5 rows\n",
      "\n"
     ]
    }
   ],
   "source": [
    "# Aplicando consulta analítica\n",
    "df_departure_airports = df_departure.join(\n",
    "    other=df_air_codes,\n",
    "    on=(df_departure.origin == df_air_codes.IATA),\n",
    "    how=\"left\"\n",
    ").select(\n",
    "    \"date\",\n",
    "    \"delay\",\n",
    "    \"distance\",\n",
    "    expr(\"origin AS airport_origin\"),\n",
    "    expr(\"City AS city_origin\"),\n",
    "    \"destination\"\n",
    ").join(\n",
    "    other=df_air_codes,\n",
    "    on=(df_departure.destination == df_air_codes.IATA),\n",
    "    how=\"left\"\n",
    ").select(\n",
    "    \"date\",\n",
    "    \"delay\",\n",
    "    \"distance\",\n",
    "    \"airport_origin\",\n",
    "    \"city_origin\",\n",
    "    expr(\"destination AS airport_dest\"),\n",
    "    expr(\"City AS city_destination\")\n",
    ")\n",
    "\n",
    "# Visualizando resultado\n",
    "df_departure_airports.show(5)"
   ]
  },
  {
   "cell_type": "markdown",
   "metadata": {},
   "source": [
    "### Aeroportos com maior média de atraso"
   ]
  },
  {
   "cell_type": "code",
   "execution_count": 33,
   "metadata": {},
   "outputs": [
    {
     "name": "stderr",
     "output_type": "stream",
     "text": [
      "[Stage 58:==============>                                           (1 + 3) / 4]\r"
     ]
    },
    {
     "name": "stdout",
     "output_type": "stream",
     "text": [
      "+------+-------------+---------+--------+\n",
      "|origin|         City|avg_delay|qtd_voos|\n",
      "+------+-------------+---------+--------+\n",
      "|   GUM|         null|    33.88|      90|\n",
      "|   LSE|    La Crosse|    26.53|     154|\n",
      "|   MQT|    Marquette|    23.87|      77|\n",
      "|   EGE|         Vail|    20.57|     877|\n",
      "|   ROA|      Roanoke|    19.89|     470|\n",
      "|   MDW|      Chicago|    19.66|   20056|\n",
      "|   BTV|   Burlington|    18.72|     788|\n",
      "|   ORD|      Chicago|    18.59|   64228|\n",
      "|   IAD|Washington DC|     18.4|   14136|\n",
      "|   SCE|State College|    17.92|     167|\n",
      "+------+-------------+---------+--------+\n",
      "only showing top 10 rows\n",
      "\n"
     ]
    },
    {
     "name": "stderr",
     "output_type": "stream",
     "text": [
      "                                                                                \r"
     ]
    }
   ],
   "source": [
    "# Aplicando consulta analítica\n",
    "df_most_delayed = df_departure.join(\n",
    "    other=df_air_codes,\n",
    "    on=(df_departure.origin == df_air_codes.IATA),\n",
    "    how=\"left\"\n",
    ").groupBy(\"origin\", \"City\").agg(\n",
    "    expr(\"round(avg(delay), 2) AS avg_delay\"),\n",
    "    expr(\"count(1) AS qtd_voos\")\n",
    ").sort(\"avg_delay\", ascending=False)\n",
    "\n",
    "# Visualizando resultado\n",
    "df_most_delayed.show(10)"
   ]
  },
  {
   "cell_type": "markdown",
   "metadata": {},
   "source": [
    "### Rotas mais comuns entre cidades"
   ]
  },
  {
   "cell_type": "code",
   "execution_count": 45,
   "metadata": {},
   "outputs": [
    {
     "name": "stderr",
     "output_type": "stream",
     "text": [
      "[Stage 82:=============================>                            (2 + 2) / 4]\r"
     ]
    },
    {
     "name": "stdout",
     "output_type": "stream",
     "text": [
      "+--------------+--------------+-----+\n",
      "|   city_origin|     city_dest|count|\n",
      "+--------------+--------------+-----+\n",
      "|        Dallas|       Houston| 4597|\n",
      "|       Houston|        Dallas| 4572|\n",
      "| San Francisco|   Los Angeles| 3232|\n",
      "|   Los Angeles| San Francisco| 3198|\n",
      "|     Las Vegas|   Los Angeles| 3016|\n",
      "|   Los Angeles|     Las Vegas| 2964|\n",
      "|      New York|       Atlanta| 2954|\n",
      "|       Atlanta|      New York| 2951|\n",
      "|Honolulu, Oahu|          null| 2895|\n",
      "|          null|Honolulu, Oahu| 2869|\n",
      "+--------------+--------------+-----+\n",
      "only showing top 10 rows\n",
      "\n"
     ]
    },
    {
     "name": "stderr",
     "output_type": "stream",
     "text": [
      "                                                                                \r"
     ]
    }
   ],
   "source": [
    "# Trazendo país origem do vôo\n",
    "df_city_origin = df_departure.join(\n",
    "    other=df_air_codes,\n",
    "    how=\"left\",\n",
    "    on=(df_departure.origin == df_air_codes.IATA)\n",
    ")\n",
    "\n",
    "# Selecionando apenas dados relevantes\n",
    "df_city_origin_select = df_city_origin.selectExpr(\n",
    "    \"City AS city_origin\",\n",
    "    \"destination\"\n",
    ")\n",
    "\n",
    "# Trazendo país destino do vôo\n",
    "df_city_dest = df_city_origin_select.join(\n",
    "    other=df_air_codes,\n",
    "    how=\"left\",\n",
    "    on=(df_city_origin_select.destination == df_air_codes.IATA)\n",
    ")\n",
    "\n",
    "# Selecionando apenas dados relevantes\n",
    "df_city_dest_select = df_city_dest.selectExpr(\n",
    "    \"city_origin\",\n",
    "    \"City AS city_dest\"\n",
    ")\n",
    "\n",
    "# Agrupando dados\n",
    "df_city_grouped = df_city_dest_select\\\n",
    "    .groupBy(\"city_origin\", \"city_dest\").agg(\n",
    "        expr(\"count(1) AS count\")\n",
    "    )\n",
    "\n",
    "# Ordenando dados\n",
    "df_city_ordered = df_city_grouped\\\n",
    "    .sort(\"count\", ascending=False)\n",
    "\n",
    "# Visualizando resultado\n",
    "df_city_ordered.show(10)"
   ]
  },
  {
   "cell_type": "code",
   "execution_count": null,
   "metadata": {},
   "outputs": [],
   "source": []
  }
 ],
 "metadata": {
  "kernelspec": {
   "display_name": "Python 3.10.4 ('pyspark-venv')",
   "language": "python",
   "name": "python3"
  },
  "language_info": {
   "codemirror_mode": {
    "name": "ipython",
    "version": 3
   },
   "file_extension": ".py",
   "mimetype": "text/x-python",
   "name": "python",
   "nbconvert_exporter": "python",
   "pygments_lexer": "ipython3",
   "version": "3.10.4"
  },
  "orig_nbformat": 4,
  "vscode": {
   "interpreter": {
    "hash": "a3a59d43698a1c21b8ea695e9dada7fb9edd9002f05e8c3363eca03517868e40"
   }
  }
 },
 "nbformat": 4,
 "nbformat_minor": 2
}

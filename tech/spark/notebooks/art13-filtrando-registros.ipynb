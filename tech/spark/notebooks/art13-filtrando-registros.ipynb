{
 "cells": [
  {
   "cell_type": "code",
   "execution_count": 15,
   "metadata": {},
   "outputs": [],
   "source": [
    "# Importando biblitoecas\n",
    "from pyspark.sql import SparkSession\n",
    "from pyspark.sql.types import StructType, StructField, \\\n",
    "    StringType, IntegerType, DoubleType, LongType\n",
    "from pyspark.sql.functions import col, expr\n",
    "import os \n",
    "from warnings import filterwarnings\n",
    "filterwarnings(\"ignore\")\n",
    "\n",
    "# Criando objeto de sessão\n",
    "spark = SparkSession\\\n",
    "    .builder\\\n",
    "    .appName(\"filtrando-registros\")\\\n",
    "    .getOrCreate()\n",
    "\n",
    "# Definindo variáveis de diretório\n",
    "home_path = os.path.expanduser('~')\n",
    "data_path = os.path.join(home_path, 'dev/panini-tech-lab/data')\n",
    "flights_path = os.path.join(data_path, 'flights-data/summary-data/csv/2015-summary.csv')\n",
    "iot_path = os.path.join(data_path, 'iot-devices/iot_devices.json')\n",
    "\n",
    "# Definindo schema para o arquivo CSV a ser lido\n",
    "flights_schema = StructType([\n",
    "    StructField(\"DEST_COUNTRY_NAME\", StringType(), nullable=True, metadata={\"description\": \"País de destino dos vôos contabilizados\"}),\n",
    "    StructField(\"ORIGIN_COUNTRY_NAME\", StringType(), nullable=True, metadata={\"description\": \"País de origem dos vôos contabilizados\"}),\n",
    "    StructField(\"count\", IntegerType(), nullable=True, metadata={\"description\": \"Contagem total de vôos entre os países de origem e de destino do registro\"})\n",
    "])\n",
    "\n",
    "iot_schema = StructType([\n",
    "    StructField(\"device_id\", IntegerType(), nullable=False),\n",
    "    StructField(\"device_name\", StringType(), nullable=True),\n",
    "    StructField(\"ip\", StringType(), nullable=True),\n",
    "    StructField(\"cca2\", StringType(), nullable=True),\n",
    "    StructField(\"cca3\", StringType(), nullable=True),\n",
    "    StructField(\"cn\", StringType(), nullable=True),\n",
    "    StructField(\"latitude\", DoubleType(), nullable=True),\n",
    "    StructField(\"longitude\", DoubleType(), nullable=True),\n",
    "    StructField(\"scale\", StringType(), nullable=True),\n",
    "    StructField(\"temp\", IntegerType(), nullable=True),\n",
    "    StructField(\"humidity\", IntegerType(), nullable=True),\n",
    "    StructField(\"battery_level\", StringType(), nullable=True),\n",
    "    StructField(\"c02_level\", IntegerType(), nullable=True),\n",
    "    StructField(\"lcd\", StringType(), nullable=True),\n",
    "    StructField(\"timestamp\", LongType(), nullable=False)\n",
    "])\n",
    "\n",
    "# Lendo dados\n",
    "df_flights = spark.read.format(\"csv\")\\\n",
    "    .option(\"inferSchema\", \"true\")\\\n",
    "    .option(\"header\", \"true\")\\\n",
    "    .load(flights_path)\n",
    "\n",
    "\n",
    "df_iot = spark.read.format(\"json\")\\\n",
    "    .schema(iot_schema).load(iot_path)\n",
    "\n",
    "# Criando tabelas temporárias\n",
    "df_flights.createOrReplaceTempView(\"tbl_flights\")\n",
    "df_iot.createOrReplaceTempView(\"tbl_iot\")"
   ]
  },
  {
   "cell_type": "code",
   "execution_count": 16,
   "metadata": {},
   "outputs": [
    {
     "name": "stdout",
     "output_type": "stream",
     "text": [
      "root\n",
      " |-- DEST_COUNTRY_NAME: string (nullable = true)\n",
      " |-- ORIGIN_COUNTRY_NAME: string (nullable = true)\n",
      " |-- count: integer (nullable = true)\n",
      "\n",
      "+-----------------+-------------------+-----+\n",
      "|DEST_COUNTRY_NAME|ORIGIN_COUNTRY_NAME|count|\n",
      "+-----------------+-------------------+-----+\n",
      "|    United States|            Romania|   15|\n",
      "|    United States|            Croatia|    1|\n",
      "|    United States|            Ireland|  344|\n",
      "|            Egypt|      United States|   15|\n",
      "|    United States|              India|   62|\n",
      "+-----------------+-------------------+-----+\n",
      "only showing top 5 rows\n",
      "\n"
     ]
    }
   ],
   "source": [
    "# Verificando dados de vôos\n",
    "df_flights.printSchema()\n",
    "df_flights.show(5)"
   ]
  },
  {
   "cell_type": "code",
   "execution_count": 3,
   "metadata": {},
   "outputs": [
    {
     "name": "stdout",
     "output_type": "stream",
     "text": [
      "root\n",
      " |-- device_id: integer (nullable = true)\n",
      " |-- device_name: string (nullable = true)\n",
      " |-- ip: string (nullable = true)\n",
      " |-- cca2: string (nullable = true)\n",
      " |-- cca3: string (nullable = true)\n",
      " |-- cn: string (nullable = true)\n",
      " |-- latitude: double (nullable = true)\n",
      " |-- longitude: double (nullable = true)\n",
      " |-- scale: string (nullable = true)\n",
      " |-- temp: integer (nullable = true)\n",
      " |-- humidity: integer (nullable = true)\n",
      " |-- battery_level: string (nullable = true)\n",
      " |-- c02_level: integer (nullable = true)\n",
      " |-- lcd: string (nullable = true)\n",
      " |-- timestamp: long (nullable = true)\n",
      "\n",
      "+---------+--------------------+-------------+----+----+-------------+--------+---------+-------+----+--------+-------------+---------+------+-------------+\n",
      "|device_id|         device_name|           ip|cca2|cca3|           cn|latitude|longitude|  scale|temp|humidity|battery_level|c02_level|   lcd|    timestamp|\n",
      "+---------+--------------------+-------------+----+----+-------------+--------+---------+-------+----+--------+-------------+---------+------+-------------+\n",
      "|        1|meter-gauge-1xbYRYcj| 68.161.225.1|  US| USA|United States|    38.0|    -97.0|Celsius|  34|      51|            8|      868| green|1458444054093|\n",
      "|        2|   sensor-pad-2n2Pea|213.161.254.1|  NO| NOR|       Norway|   62.47|     6.15|Celsius|  11|      70|            7|     1473|   red|1458444054119|\n",
      "|        3| device-mac-36TWSKiT|    88.36.5.1|  IT| ITA|        Italy|   42.83|    12.83|Celsius|  19|      44|            2|     1556|   red|1458444054120|\n",
      "|        4|   sensor-pad-4mzWkz|66.39.173.154|  US| USA|United States|   44.06|  -121.32|Celsius|  28|      32|            6|     1080|yellow|1458444054121|\n",
      "|        5|therm-stick-5gimp...|  203.82.41.9|  PH| PHL|  Philippines|   14.58|   120.97|Celsius|  25|      62|            4|      931| green|1458444054122|\n",
      "+---------+--------------------+-------------+----+----+-------------+--------+---------+-------+----+--------+-------------+---------+------+-------------+\n",
      "only showing top 5 rows\n",
      "\n"
     ]
    }
   ],
   "source": [
    "# Verificando dados de dispositivos iot\n",
    "df_iot.printSchema()\n",
    "df_iot.show(5)"
   ]
  },
  {
   "cell_type": "code",
   "execution_count": 4,
   "metadata": {},
   "outputs": [
    {
     "name": "stdout",
     "output_type": "stream",
     "text": [
      "+-------------+-------------+----------+\n",
      "|       origem|      destino|quantidade|\n",
      "+-------------+-------------+----------+\n",
      "|United States|United States|    370002|\n",
      "+-------------+-------------+----------+\n",
      "\n"
     ]
    }
   ],
   "source": [
    "# Vôos com origem e destino nos EUA\n",
    "df_american_flights = df_flights.select(\n",
    "    col(\"ORIGIN_COUNTRY_NAME\").alias(\"origem\"),\n",
    "    col(\"DEST_COUNTRY_NAME\").alias(\"destino\"),\n",
    "    col(\"count\").alias(\"quantidade\")\n",
    ").where(expr(\"DEST_COUNTRY_NAME = ORIGIN_COUNTRY_NAME\"))\n",
    "\n",
    "# Visualizando novo conjunto\n",
    "df_american_flights.show(5)"
   ]
  },
  {
   "cell_type": "code",
   "execution_count": 5,
   "metadata": {},
   "outputs": [
    {
     "name": "stdout",
     "output_type": "stream",
     "text": [
      "+-------------+-------------+----------+\n",
      "|       origem|      destino|quantidade|\n",
      "+-------------+-------------+----------+\n",
      "|United States|United States|    370002|\n",
      "+-------------+-------------+----------+\n",
      "\n"
     ]
    }
   ],
   "source": [
    "# Vôos com origem e destino nos EUA\n",
    "df_american_flights = df_flights.select(\n",
    "    col(\"ORIGIN_COUNTRY_NAME\").alias(\"origem\"),\n",
    "    col(\"DEST_COUNTRY_NAME\").alias(\"destino\"),\n",
    "    col(\"count\").alias(\"quantidade\")\n",
    ").where(col(\"DEST_COUNTRY_NAME\") == col(\"ORIGIN_COUNTRY_NAME\"))\n",
    "\n",
    "# Visualizando novo conjunto\n",
    "df_american_flights.show(5)"
   ]
  },
  {
   "cell_type": "code",
   "execution_count": 6,
   "metadata": {},
   "outputs": [
    {
     "name": "stdout",
     "output_type": "stream",
     "text": [
      "+-----------------+-------------------+------+-------------------+\n",
      "|DEST_COUNTRY_NAME|ORIGIN_COUNTRY_NAME| count|flag_within_country|\n",
      "+-----------------+-------------------+------+-------------------+\n",
      "|    United States|      United States|370002|               true|\n",
      "+-----------------+-------------------+------+-------------------+\n",
      "\n"
     ]
    }
   ],
   "source": [
    "# Criando flag para vôos de mesma origem e destino\n",
    "df_american_flights = df_flights.withColumn(\n",
    "    \"flag_within_country\", expr(\"DEST_COUNTRY_NAME = ORIGIN_COUNTRY_NAME\")\n",
    ").select(\"*\").where(col(\"flag_within_country\"))\n",
    "\n",
    "# Visualizando dados\n",
    "df_american_flights.show(5)"
   ]
  },
  {
   "cell_type": "code",
   "execution_count": 7,
   "metadata": {},
   "outputs": [
    {
     "name": "stdout",
     "output_type": "stream",
     "text": [
      "+-------------+-------------+--------+\n",
      "|  pais_origem| pais_destino|qtd_voos|\n",
      "+-------------+-------------+--------+\n",
      "|United States|United States|  370002|\n",
      "+-------------+-------------+--------+\n",
      "\n"
     ]
    }
   ],
   "source": [
    "# Filtrando registros com SparkSQL\n",
    "df_american_flights = spark.sql(\"\"\"\n",
    "    SELECT\n",
    "        ORIGIN_COUNTRY_NAME AS pais_origem,\n",
    "        DEST_COUNTRY_NAME AS pais_destino,\n",
    "        count AS qtd_voos\n",
    "\n",
    "    FROM tbl_flights\n",
    "\n",
    "    WHERE ORIGIN_COUNTRY_NAME = DEST_COUNTRY_NAME\n",
    "\"\"\")\n",
    "\n",
    "# Visualizando dados\n",
    "df_american_flights.show(5)"
   ]
  },
  {
   "cell_type": "code",
   "execution_count": 17,
   "metadata": {},
   "outputs": [
    {
     "name": "stdout",
     "output_type": "stream",
     "text": [
      "+--------------------+-------------------+-----+\n",
      "|   DEST_COUNTRY_NAME|ORIGIN_COUNTRY_NAME|count|\n",
      "+--------------------+-------------------+-----+\n",
      "|               Malta|      United States|    1|\n",
      "|Saint Vincent and...|      United States|    1|\n",
      "|       United States|            Croatia|    1|\n",
      "|       United States|          Gibraltar|    1|\n",
      "|       United States|          Singapore|    1|\n",
      "+--------------------+-------------------+-----+\n",
      "only showing top 5 rows\n",
      "\n"
     ]
    }
   ],
   "source": [
    "# Ordenando vôos menos comuns\n",
    "df_flights.orderBy(\"count\").show(5)"
   ]
  },
  {
   "cell_type": "code",
   "execution_count": 19,
   "metadata": {},
   "outputs": [
    {
     "name": "stdout",
     "output_type": "stream",
     "text": [
      "+-----------------+-------------------+------+\n",
      "|DEST_COUNTRY_NAME|ORIGIN_COUNTRY_NAME| count|\n",
      "+-----------------+-------------------+------+\n",
      "|    United States|      United States|370002|\n",
      "|    United States|             Canada|  8483|\n",
      "|           Canada|      United States|  8399|\n",
      "|    United States|             Mexico|  7187|\n",
      "|           Mexico|      United States|  7140|\n",
      "|   United Kingdom|      United States|  2025|\n",
      "|    United States|     United Kingdom|  1970|\n",
      "|            Japan|      United States|  1548|\n",
      "|    United States|              Japan|  1496|\n",
      "|          Germany|      United States|  1468|\n",
      "+-----------------+-------------------+------+\n",
      "only showing top 10 rows\n",
      "\n"
     ]
    }
   ],
   "source": [
    "# Importando função\n",
    "from pyspark.sql.functions import desc\n",
    "\n",
    "# Ordenando principais registros de vôos\n",
    "df_flights.orderBy(desc(\"count\")).show(10)"
   ]
  },
  {
   "cell_type": "code",
   "execution_count": 20,
   "metadata": {},
   "outputs": [
    {
     "name": "stdout",
     "output_type": "stream",
     "text": [
      "+-----------------+-------------------+------+\n",
      "|DEST_COUNTRY_NAME|ORIGIN_COUNTRY_NAME| count|\n",
      "+-----------------+-------------------+------+\n",
      "|    United States|      United States|370002|\n",
      "|    United States|             Canada|  8483|\n",
      "|           Canada|      United States|  8399|\n",
      "|    United States|             Mexico|  7187|\n",
      "|           Mexico|      United States|  7140|\n",
      "|   United Kingdom|      United States|  2025|\n",
      "+-----------------+-------------------+------+\n",
      "\n"
     ]
    }
   ],
   "source": [
    "# Top vôos com pelo menos 2000 registros\n",
    "df_flights.where(expr(\"count > 2000\")).orderBy(desc(\"count\")).show()"
   ]
  },
  {
   "cell_type": "code",
   "execution_count": 26,
   "metadata": {},
   "outputs": [
    {
     "name": "stdout",
     "output_type": "stream",
     "text": [
      "+-----------------+-------------------+------+\n",
      "|DEST_COUNTRY_NAME|ORIGIN_COUNTRY_NAME| count|\n",
      "+-----------------+-------------------+------+\n",
      "|   United Kingdom|      United States|  2025|\n",
      "|           Mexico|      United States|  7140|\n",
      "|    United States|             Mexico|  7187|\n",
      "|           Canada|      United States|  8399|\n",
      "|    United States|             Canada|  8483|\n",
      "|    United States|      United States|370002|\n",
      "+-----------------+-------------------+------+\n",
      "\n"
     ]
    }
   ],
   "source": [
    "# Top vôos com pelo menos 2000 registros\n",
    "df_flights.where(expr(\"count > 2000\")).orderBy(expr(\"count desc\")).show()"
   ]
  },
  {
   "cell_type": "code",
   "execution_count": 27,
   "metadata": {},
   "outputs": [
    {
     "name": "stdout",
     "output_type": "stream",
     "text": [
      "+-----------------+-------------------+------+\n",
      "|DEST_COUNTRY_NAME|ORIGIN_COUNTRY_NAME| count|\n",
      "+-----------------+-------------------+------+\n",
      "|    United States|      United States|370002|\n",
      "|    United States|             Canada|  8483|\n",
      "|           Canada|      United States|  8399|\n",
      "|    United States|             Mexico|  7187|\n",
      "|           Mexico|      United States|  7140|\n",
      "|   United Kingdom|      United States|  2025|\n",
      "+-----------------+-------------------+------+\n",
      "\n"
     ]
    }
   ],
   "source": [
    "spark.sql(\"\"\"\n",
    "    SELECT * FROM tbl_flights\n",
    "    WHERE count >= 2000\n",
    "    ORDER BY count DESC\n",
    "\"\"\").show()"
   ]
  },
  {
   "cell_type": "code",
   "execution_count": null,
   "metadata": {},
   "outputs": [],
   "source": []
  }
 ],
 "metadata": {
  "kernelspec": {
   "display_name": "Python 3.10.4 ('pyspark-venv')",
   "language": "python",
   "name": "python3"
  },
  "language_info": {
   "codemirror_mode": {
    "name": "ipython",
    "version": 3
   },
   "file_extension": ".py",
   "mimetype": "text/x-python",
   "name": "python",
   "nbconvert_exporter": "python",
   "pygments_lexer": "ipython3",
   "version": "3.10.4"
  },
  "orig_nbformat": 4,
  "vscode": {
   "interpreter": {
    "hash": "a3a59d43698a1c21b8ea695e9dada7fb9edd9002f05e8c3363eca03517868e40"
   }
  }
 },
 "nbformat": 4,
 "nbformat_minor": 2
}

{
 "cells": [
  {
   "cell_type": "code",
   "execution_count": 7,
   "metadata": {},
   "outputs": [
    {
     "data": {
      "text/html": [
       "\n",
       "            <div>\n",
       "                <p><b>SparkSession - in-memory</b></p>\n",
       "                \n",
       "        <div>\n",
       "            <p><b>SparkContext</b></p>\n",
       "\n",
       "            <p><a href=\"http://10.0.0.106:4040\">Spark UI</a></p>\n",
       "\n",
       "            <dl>\n",
       "              <dt>Version</dt>\n",
       "                <dd><code>v3.3.0</code></dd>\n",
       "              <dt>Master</dt>\n",
       "                <dd><code>local[*]</code></dd>\n",
       "              <dt>AppName</dt>\n",
       "                <dd><code>transformacoes</code></dd>\n",
       "            </dl>\n",
       "        </div>\n",
       "        \n",
       "            </div>\n",
       "        "
      ],
      "text/plain": [
       "<pyspark.sql.session.SparkSession at 0x7fc719f07520>"
      ]
     },
     "execution_count": 7,
     "metadata": {},
     "output_type": "execute_result"
    }
   ],
   "source": [
    "# Importando bibliotecas e inicializando sessão Spark\n",
    "from pyspark.sql import SparkSession\n",
    "from pyspark.sql.functions import desc\n",
    "\n",
    "import os\n",
    "from warnings import filterwarnings\n",
    "filterwarnings(\"ignore\")\n",
    "\n",
    "# Definindo variáveis de leitura\n",
    "data_path = os.path.join(''.join(os.path.pardir + \"/\") * 3, 'data/flights-data/summary-data/parquet/2010-summary.parquet/part-r-00000-1a9822ba-b8fb-4d8e-844a-ea30d0801b9e.gz.parquet')\n",
    "\n",
    "# Inicializando sessão\n",
    "spark = (SparkSession\n",
    "    .builder\n",
    "    .appName(\"transformacoes\")\n",
    "    .getOrCreate())\n",
    "spark"
   ]
  },
  {
   "cell_type": "code",
   "execution_count": 29,
   "metadata": {},
   "outputs": [],
   "source": [
    "# Lendo base original de dados\n",
    "df1_flights = spark.read.format(\"parquet\").load(data_path)\n",
    "\n",
    "# Filtrando vôos com origem nos EUA\n",
    "df2_flights_eua = df1_flights.where(\"ORIGIN_COUNTRY_NAME = 'United States'\")\n",
    "\n",
    "# Ordenando conjunto de acordo com a contagem de vôos\n",
    "df3_flights_eua_ordered = df2_flights_eua.orderBy(desc(\"count\"))"
   ]
  },
  {
   "cell_type": "code",
   "execution_count": 30,
   "metadata": {},
   "outputs": [
    {
     "name": "stdout",
     "output_type": "stream",
     "text": [
      "DataFrame 1: DataFrame[DEST_COUNTRY_NAME: string, ORIGIN_COUNTRY_NAME: string, count: bigint]\n",
      "DataFrame 2: DataFrame[DEST_COUNTRY_NAME: string, ORIGIN_COUNTRY_NAME: string, count: bigint]\n",
      "DataFrame 3: DataFrame[DEST_COUNTRY_NAME: string, ORIGIN_COUNTRY_NAME: string, count: bigint]\n",
      "\n",
      "Os DataFrames são iguais? False\n"
     ]
    }
   ],
   "source": [
    "# Onde estão os dados?\n",
    "print(f'DataFrame 1: {df1_flights}')\n",
    "print(f'DataFrame 2: {df2_flights_eua}')\n",
    "print(f'DataFrame 3: {df3_flights_eua_ordered}')\n",
    "\n",
    "# Os DataFrames são iguais?\n",
    "print(f'\\nOs DataFrames são iguais? {(df1_flights == df2_flights_eua == df3_flights_eua_ordered)}')"
   ]
  },
  {
   "cell_type": "code",
   "execution_count": 32,
   "metadata": {},
   "outputs": [
    {
     "name": "stdout",
     "output_type": "stream",
     "text": [
      "+-----------------+-------------------+------+\n",
      "|DEST_COUNTRY_NAME|ORIGIN_COUNTRY_NAME| count|\n",
      "+-----------------+-------------------+------+\n",
      "|    United States|      United States|348113|\n",
      "|           Canada|      United States|  8271|\n",
      "|           Mexico|      United States|  6200|\n",
      "|   United Kingdom|      United States|  1629|\n",
      "|          Germany|      United States|  1392|\n",
      "+-----------------+-------------------+------+\n",
      "only showing top 5 rows\n",
      "\n"
     ]
    }
   ],
   "source": [
    "# Visualizando uma amostra dos dados\n",
    "df3_flights_eua_ordered.show(5)"
   ]
  },
  {
   "cell_type": "code",
   "execution_count": 38,
   "metadata": {},
   "outputs": [
    {
     "name": "stdout",
     "output_type": "stream",
     "text": [
      "DataFrame 1: Dados originais\n",
      "+-----------------+-------------------+-----+\n",
      "|DEST_COUNTRY_NAME|ORIGIN_COUNTRY_NAME|count|\n",
      "+-----------------+-------------------+-----+\n",
      "|    United States|            Romania|    1|\n",
      "|    United States|            Ireland|  264|\n",
      "|    United States|              India|   69|\n",
      "|            Egypt|      United States|   24|\n",
      "|Equatorial Guinea|      United States|    1|\n",
      "+-----------------+-------------------+-----+\n",
      "only showing top 5 rows\n",
      "\n",
      "DataFrame 2: Vôos com origem nos Estados Unidos\n",
      "+-----------------+-------------------+-----+\n",
      "|DEST_COUNTRY_NAME|ORIGIN_COUNTRY_NAME|count|\n",
      "+-----------------+-------------------+-----+\n",
      "|            Egypt|      United States|   24|\n",
      "|Equatorial Guinea|      United States|    1|\n",
      "|       Costa Rica|      United States|  477|\n",
      "|          Senegal|      United States|   29|\n",
      "|           Guyana|      United States|   17|\n",
      "+-----------------+-------------------+-----+\n",
      "only showing top 5 rows\n",
      "\n",
      "DataFrame 3: Principais destinos de vôos americanos\n",
      "+-----------------+-------------------+------+\n",
      "|DEST_COUNTRY_NAME|ORIGIN_COUNTRY_NAME| count|\n",
      "+-----------------+-------------------+------+\n",
      "|    United States|      United States|348113|\n",
      "|           Canada|      United States|  8271|\n",
      "|           Mexico|      United States|  6200|\n",
      "|   United Kingdom|      United States|  1629|\n",
      "|          Germany|      United States|  1392|\n",
      "+-----------------+-------------------+------+\n",
      "only showing top 5 rows\n",
      "\n"
     ]
    }
   ],
   "source": [
    "# Visualizando amostras de cada objeto DataFrame\n",
    "print('DataFrame 1: Dados originais')\n",
    "df1_flights.show(5)\n",
    "\n",
    "print('DataFrame 2: Vôos com origem nos Estados Unidos')\n",
    "df2_flights_eua.show(5)\n",
    "\n",
    "print('DataFrame 3: Principais destinos de vôos americanos')\n",
    "df3_flights_eua_ordered.show(5)"
   ]
  },
  {
   "cell_type": "code",
   "execution_count": 39,
   "metadata": {},
   "outputs": [
    {
     "name": "stdout",
     "output_type": "stream",
     "text": [
      "== Physical Plan ==\n",
      "AdaptiveSparkPlan isFinalPlan=false\n",
      "+- Sort [count#193L DESC NULLS LAST], true, 0\n",
      "   +- Exchange rangepartitioning(count#193L DESC NULLS LAST, 200), ENSURE_REQUIREMENTS, [id=#532]\n",
      "      +- Filter (isnotnull(ORIGIN_COUNTRY_NAME#192) AND (ORIGIN_COUNTRY_NAME#192 = United States))\n",
      "         +- FileScan parquet [DEST_COUNTRY_NAME#191,ORIGIN_COUNTRY_NAME#192,count#193L] Batched: true, DataFilters: [isnotnull(ORIGIN_COUNTRY_NAME#192), (ORIGIN_COUNTRY_NAME#192 = United States)], Format: Parquet, Location: InMemoryFileIndex(1 paths)[file:/home/hadoop/dev/panini-tech-lab/data/flights-data/summary-data/p..., PartitionFilters: [], PushedFilters: [IsNotNull(ORIGIN_COUNTRY_NAME), EqualTo(ORIGIN_COUNTRY_NAME,United States)], ReadSchema: struct<DEST_COUNTRY_NAME:string,ORIGIN_COUNTRY_NAME:string,count:bigint>\n",
      "\n",
      "\n"
     ]
    }
   ],
   "source": [
    "# Verificando plano de execução\n",
    "df3_flights_eua_ordered.explain()"
   ]
  },
  {
   "cell_type": "code",
   "execution_count": 52,
   "metadata": {},
   "outputs": [
    {
     "name": "stdout",
     "output_type": "stream",
     "text": [
      "+-----------------+-------------------+------+\n",
      "|DEST_COUNTRY_NAME|ORIGIN_COUNTRY_NAME| count|\n",
      "+-----------------+-------------------+------+\n",
      "|    United States|      United States|348113|\n",
      "|           Canada|      United States|  8271|\n",
      "|           Mexico|      United States|  6200|\n",
      "|   United Kingdom|      United States|  1629|\n",
      "|          Germany|      United States|  1392|\n",
      "+-----------------+-------------------+------+\n",
      "only showing top 5 rows\n",
      "\n"
     ]
    }
   ],
   "source": [
    "# Criando uma tabela temporária para SparkSQL\n",
    "df1_flights.createOrReplaceTempView('tbl_flights_raw')\n",
    "\n",
    "# Consultando top vôos partindo dos EUA\n",
    "df_sql = spark.sql(\"\"\"\n",
    "    SELECT\n",
    "        *\n",
    "    FROM tbl_flights_raw\n",
    "    WHERE ORIGIN_COUNTRY_NAME = 'United States'\n",
    "    ORDER BY count DESC\n",
    "\"\"\")\n",
    "\n",
    "# Visualizando resultado\n",
    "df_sql.show(5)"
   ]
  },
  {
   "cell_type": "code",
   "execution_count": 53,
   "metadata": {},
   "outputs": [
    {
     "name": "stdout",
     "output_type": "stream",
     "text": [
      "== Physical Plan ==\n",
      "AdaptiveSparkPlan isFinalPlan=false\n",
      "+- Sort [count#193L DESC NULLS LAST], true, 0\n",
      "   +- Exchange rangepartitioning(count#193L DESC NULLS LAST, 200), ENSURE_REQUIREMENTS, [id=#853]\n",
      "      +- Filter (isnotnull(ORIGIN_COUNTRY_NAME#192) AND (ORIGIN_COUNTRY_NAME#192 = United States))\n",
      "         +- FileScan parquet [DEST_COUNTRY_NAME#191,ORIGIN_COUNTRY_NAME#192,count#193L] Batched: true, DataFilters: [isnotnull(ORIGIN_COUNTRY_NAME#192), (ORIGIN_COUNTRY_NAME#192 = United States)], Format: Parquet, Location: InMemoryFileIndex(1 paths)[file:/home/hadoop/dev/panini-tech-lab/data/flights-data/summary-data/p..., PartitionFilters: [], PushedFilters: [IsNotNull(ORIGIN_COUNTRY_NAME), EqualTo(ORIGIN_COUNTRY_NAME,United States)], ReadSchema: struct<DEST_COUNTRY_NAME:string,ORIGIN_COUNTRY_NAME:string,count:bigint>\n",
      "\n",
      "\n"
     ]
    }
   ],
   "source": [
    "# Verificando plano de execução SparkSQL\n",
    "df_sql.explain()"
   ]
  },
  {
   "cell_type": "code",
   "execution_count": null,
   "metadata": {},
   "outputs": [],
   "source": []
  }
 ],
 "metadata": {
  "kernelspec": {
   "display_name": "Python 3.10.4 ('pyspark-venv')",
   "language": "python",
   "name": "python3"
  },
  "language_info": {
   "codemirror_mode": {
    "name": "ipython",
    "version": 3
   },
   "file_extension": ".py",
   "mimetype": "text/x-python",
   "name": "python",
   "nbconvert_exporter": "python",
   "pygments_lexer": "ipython3",
   "version": "3.10.4"
  },
  "orig_nbformat": 4,
  "vscode": {
   "interpreter": {
    "hash": "a3a59d43698a1c21b8ea695e9dada7fb9edd9002f05e8c3363eca03517868e40"
   }
  }
 },
 "nbformat": 4,
 "nbformat_minor": 2
}
